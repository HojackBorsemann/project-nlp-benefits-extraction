{
 "cells": [
  {
   "cell_type": "markdown",
   "metadata": {
    "application/vnd.databricks.v1+cell": {
     "cellMetadata": {
      "byteLimit": 2048000,
      "rowLimit": 10000
     },
     "inputWidgets": {},
     "nuid": "61444ec6-e85a-424a-8f49-c470e6984d44",
     "showTitle": false,
     "tableResultSettingsMap": {},
     "title": ""
    }
   },
   "source": [
    "## Setup notebook"
   ]
  },
  {
   "cell_type": "code",
   "execution_count": 0,
   "metadata": {
    "application/vnd.databricks.v1+cell": {
     "cellMetadata": {
      "byteLimit": 2048000,
      "rowLimit": 10000
     },
     "inputWidgets": {},
     "nuid": "20a012ca-a3a7-4512-9d48-e0bcdc3fbcf4",
     "showTitle": false,
     "tableResultSettingsMap": {},
     "title": ""
    }
   },
   "outputs": [
    {
     "output_type": "stream",
     "name": "stdout",
     "output_type": "stream",
     "text": [
      "\u001B[43mNote: you may need to restart the kernel using dbutils.library.restartPython() to use updated packages.\u001B[0m\n\u001B[43mNote: you may need to restart the kernel using dbutils.library.restartPython() to use updated packages.\u001B[0m\n"
     ]
    }
   ],
   "source": [
    "# Install library and versions below\n",
    "%pip install spacy==3.7.5 spacy-transformers==1.3.5 mlflow dill > /dev/null 2>&1\n",
    "dbutils.library.restartPython()"
   ]
  },
  {
   "cell_type": "code",
   "execution_count": 0,
   "metadata": {
    "application/vnd.databricks.v1+cell": {
     "cellMetadata": {
      "byteLimit": 2048000,
      "rowLimit": 10000
     },
     "inputWidgets": {},
     "nuid": "a8633dbf-e3de-47fc-97e3-95babfd4e010",
     "showTitle": false,
     "tableResultSettingsMap": {},
     "title": ""
    }
   },
   "outputs": [],
   "source": [
    "# Core utilities\n",
    "import json, re, logging, warnings, base64, pickle, dill\n",
    "\n",
    "# Data handling and NLP\n",
    "import pandas as pd, spacy\n",
    "\n",
    "# MLflow components\n",
    "import mlflow, mlflow.spacy, mlflow.pyfunc"
   ]
  },
  {
   "cell_type": "markdown",
   "metadata": {
    "application/vnd.databricks.v1+cell": {
     "cellMetadata": {
      "byteLimit": 2048000,
      "rowLimit": 10000
     },
     "inputWidgets": {},
     "nuid": "feabe881-85ba-44b8-83b4-c0a3d6acf933",
     "showTitle": false,
     "tableResultSettingsMap": {},
     "title": ""
    }
   },
   "source": [
    "### Load job descriptions to be analysed\n",
    "1. These job decsriptions will first have their content parsed by a NER model, extracting mentions of benefits\n",
    "2. A cleaning function prepares the output for the Text Classification model\n",
    "3. Apply the Benefits Text Classification model to categorise extracted benefits into one of predefined list of benefit categories"
   ]
  },
  {
   "cell_type": "code",
   "execution_count": 0,
   "metadata": {
    "application/vnd.databricks.v1+cell": {
     "cellMetadata": {
      "byteLimit": 2048000,
      "rowLimit": 10000
     },
     "inputWidgets": {},
     "nuid": "3267c26f-3bc4-4411-96a4-0d3fe0506af8",
     "showTitle": false,
     "tableResultSettingsMap": {},
     "title": ""
    }
   },
   "outputs": [
    {
     "output_type": "execute_result",
     "data": {
      "text/html": [
       "<div>\n",
       "<style scoped>\n",
       "    .dataframe tbody tr th:only-of-type {\n",
       "        vertical-align: middle;\n",
       "    }\n",
       "\n",
       "    .dataframe tbody tr th {\n",
       "        vertical-align: top;\n",
       "    }\n",
       "\n",
       "    .dataframe thead th {\n",
       "        text-align: right;\n",
       "    }\n",
       "</style>\n",
       "<table border=\"1\" class=\"dataframe\">\n",
       "  <thead>\n",
       "    <tr style=\"text-align: right;\">\n",
       "      <th></th>\n",
       "      <th>id</th>\n",
       "      <th>title</th>\n",
       "      <th>industry</th>\n",
       "      <th>country</th>\n",
       "      <th>text</th>\n",
       "    </tr>\n",
       "  </thead>\n",
       "  <tbody>\n",
       "    <tr>\n",
       "      <th>0</th>\n",
       "      <td>145095</td>\n",
       "      <td>Assistant Underwriter</td>\n",
       "      <td>Insurance</td>\n",
       "      <td>United Kingdom</td>\n",
       "      <td>Pen Underwriting have an amazing chance to wor...</td>\n",
       "    </tr>\n",
       "    <tr>\n",
       "      <th>1</th>\n",
       "      <td>145123</td>\n",
       "      <td>Junior Account Handler ( UK Motor Trade Division)</td>\n",
       "      <td>Insurance</td>\n",
       "      <td>United Kingdom</td>\n",
       "      <td>Performs standard tasks using established and ...</td>\n",
       "    </tr>\n",
       "    <tr>\n",
       "      <th>2</th>\n",
       "      <td>145210</td>\n",
       "      <td>DBA</td>\n",
       "      <td>Insurance</td>\n",
       "      <td>United Kingdom</td>\n",
       "      <td>DBA\\nBased in our Ipswich waterfront office, y...</td>\n",
       "    </tr>\n",
       "    <tr>\n",
       "      <th>3</th>\n",
       "      <td>156197</td>\n",
       "      <td>Analyst, Portfolio Management</td>\n",
       "      <td>Financial Services</td>\n",
       "      <td>United Kingdom</td>\n",
       "      <td>Notes to applicants:Most roles at Dimensional ...</td>\n",
       "    </tr>\n",
       "    <tr>\n",
       "      <th>4</th>\n",
       "      <td>158803</td>\n",
       "      <td>Digital Markets Correspondent</td>\n",
       "      <td>Media</td>\n",
       "      <td>United Kingdom</td>\n",
       "      <td>The Role\\nThe Financial Times is hiring a digi...</td>\n",
       "    </tr>\n",
       "  </tbody>\n",
       "</table>\n",
       "</div>"
      ],
      "text/plain": [
       "       id  ...                                               text\n",
       "0  145095  ...  Pen Underwriting have an amazing chance to wor...\n",
       "1  145123  ...  Performs standard tasks using established and ...\n",
       "2  145210  ...  DBA\\nBased in our Ipswich waterfront office, y...\n",
       "3  156197  ...  Notes to applicants:Most roles at Dimensional ...\n",
       "4  158803  ...  The Role\\nThe Financial Times is hiring a digi...\n",
       "\n",
       "[5 rows x 5 columns]"
      ]
     },
     "execution_count": 3,
     "metadata": {},
     "output_type": "execute_result"
    }
   ],
   "source": [
    "df_data = pd.read_csv('/Workspace/Users/justin.ngam@towerswatson.com/1_Benefits/0_Production/temp/git_test.csv')\n",
    "df_data.head(5)"
   ]
  },
  {
   "cell_type": "code",
   "execution_count": 0,
   "metadata": {
    "application/vnd.databricks.v1+cell": {
     "cellMetadata": {
      "byteLimit": 2048000,
      "rowLimit": 10000
     },
     "inputWidgets": {},
     "nuid": "9376cbef-fd20-42c5-982f-9a4ed475bdb7",
     "showTitle": false,
     "tableResultSettingsMap": {},
     "title": ""
    }
   },
   "outputs": [],
   "source": [
    "df_data = df_data.head(100)"
   ]
  },
  {
   "cell_type": "markdown",
   "metadata": {
    "application/vnd.databricks.v1+cell": {
     "cellMetadata": {
      "byteLimit": 2048000,
      "rowLimit": 10000
     },
     "inputWidgets": {},
     "nuid": "51945dbe-fb17-4613-bdfe-2b4cad950972",
     "showTitle": false,
     "tableResultSettingsMap": {},
     "title": ""
    }
   },
   "source": [
    "## Run job descriptions through NER model to extract benefits\n",
    "I've stored the pretrained model into MLFlow within Databricks, for better model housekeeping. All I have to do is call the correct 'run_id' to load the model"
   ]
  },
  {
   "cell_type": "code",
   "execution_count": 0,
   "metadata": {
    "application/vnd.databricks.v1+cell": {
     "cellMetadata": {
      "byteLimit": 2048000,
      "rowLimit": 10000
     },
     "inputWidgets": {},
     "nuid": "cc3020d2-ddbe-4197-8e11-3f11b61e640b",
     "showTitle": false,
     "tableResultSettingsMap": {},
     "title": ""
    },
    "jupyter": {
     "outputs_hidden": true
    }
   },
   "outputs": [
    {
     "output_type": "display_data",
     "data": {
      "application/vnd.jupyter.widget-view+json": {
       "model_id": "4dd38753e932472495b6c93b3c0dc62f",
       "version_major": 2,
       "version_minor": 0
      },
      "text/plain": [
       "Downloading artifacts:   0%|          | 0/21 [00:00<?, ?it/s]"
      ]
     },
     "metadata": {},
     "output_type": "display_data"
    },
    {
     "output_type": "stream",
     "name": "stderr",
     "output_type": "stream",
     "text": [
      "/local_disk0/.ephemeral_nfs/cluster_libraries/python/lib/python3.10/site-packages/transformers/utils/generic.py:441: FutureWarning: `torch.utils._pytree._register_pytree_node` is deprecated. Please use `torch.utils._pytree.register_pytree_node` instead.\n  _torch_pytree._register_pytree_node(\n/local_disk0/.ephemeral_nfs/cluster_libraries/python/lib/python3.10/site-packages/transformers/utils/generic.py:309: FutureWarning: `torch.utils._pytree._register_pytree_node` is deprecated. Please use `torch.utils._pytree.register_pytree_node` instead.\n  _torch_pytree._register_pytree_node(\n"
     ]
    }
   ],
   "source": [
    "# INSTRUCTION: Edit 'run_id' to match MLFlow of NER model\n",
    "run_id = \"54cac5d165bd4dce8689767153640deb\"\n",
    "\n",
    "model_uri = f\"runs:/{run_id}/best\"\n",
    "nlp_ner = mlflow.spacy.load_model(model_uri)"
   ]
  },
  {
   "cell_type": "code",
   "execution_count": 0,
   "metadata": {
    "application/vnd.databricks.v1+cell": {
     "cellMetadata": {
      "byteLimit": 2048000,
      "rowLimit": 10000
     },
     "inputWidgets": {},
     "nuid": "ec2dc52b-fba0-4208-821f-805b3d656dc2",
     "showTitle": false,
     "tableResultSettingsMap": {},
     "title": ""
    }
   },
   "outputs": [
    {
     "output_type": "execute_result",
     "data": {
      "text/html": [
       "<div>\n",
       "<style scoped>\n",
       "    .dataframe tbody tr th:only-of-type {\n",
       "        vertical-align: middle;\n",
       "    }\n",
       "\n",
       "    .dataframe tbody tr th {\n",
       "        vertical-align: top;\n",
       "    }\n",
       "\n",
       "    .dataframe thead th {\n",
       "        text-align: right;\n",
       "    }\n",
       "</style>\n",
       "<table border=\"1\" class=\"dataframe\">\n",
       "  <thead>\n",
       "    <tr style=\"text-align: right;\">\n",
       "      <th></th>\n",
       "      <th>id</th>\n",
       "      <th>title</th>\n",
       "      <th>industry</th>\n",
       "      <th>country</th>\n",
       "      <th>text</th>\n",
       "      <th>model_extracted_benefits</th>\n",
       "    </tr>\n",
       "  </thead>\n",
       "  <tbody>\n",
       "    <tr>\n",
       "      <th>0</th>\n",
       "      <td>145095</td>\n",
       "      <td>Assistant Underwriter</td>\n",
       "      <td>Insurance</td>\n",
       "      <td>United Kingdom</td>\n",
       "      <td>Pen Underwriting have an amazing chance to wor...</td>\n",
       "      <td></td>\n",
       "    </tr>\n",
       "    <tr>\n",
       "      <th>1</th>\n",
       "      <td>145123</td>\n",
       "      <td>Junior Account Handler ( UK Motor Trade Division)</td>\n",
       "      <td>Insurance</td>\n",
       "      <td>United Kingdom</td>\n",
       "      <td>Performs standard tasks using established and ...</td>\n",
       "      <td></td>\n",
       "    </tr>\n",
       "    <tr>\n",
       "      <th>2</th>\n",
       "      <td>145210</td>\n",
       "      <td>DBA</td>\n",
       "      <td>Insurance</td>\n",
       "      <td>United Kingdom</td>\n",
       "      <td>DBA\\nBased in our Ipswich waterfront office, y...</td>\n",
       "      <td>Fully funded Qualifications ||| Learning and D...</td>\n",
       "    </tr>\n",
       "    <tr>\n",
       "      <th>3</th>\n",
       "      <td>156197</td>\n",
       "      <td>Analyst, Portfolio Management</td>\n",
       "      <td>Financial Services</td>\n",
       "      <td>United Kingdom</td>\n",
       "      <td>Notes to applicants:Most roles at Dimensional ...</td>\n",
       "      <td>hybrid working model</td>\n",
       "    </tr>\n",
       "    <tr>\n",
       "      <th>4</th>\n",
       "      <td>158803</td>\n",
       "      <td>Digital Markets Correspondent</td>\n",
       "      <td>Media</td>\n",
       "      <td>United Kingdom</td>\n",
       "      <td>The Role\\nThe Financial Times is hiring a digi...</td>\n",
       "      <td>generous annual leave allowances ||| flexible ...</td>\n",
       "    </tr>\n",
       "    <tr>\n",
       "      <th>5</th>\n",
       "      <td>160235</td>\n",
       "      <td>Advanced Building Design Consultant</td>\n",
       "      <td>Professional Services</td>\n",
       "      <td>United Kingdom</td>\n",
       "      <td>About Us\\nAt HDR, we specialize in engineering...</td>\n",
       "      <td></td>\n",
       "    </tr>\n",
       "    <tr>\n",
       "      <th>6</th>\n",
       "      <td>161234</td>\n",
       "      <td>Electrical Graduate Engineer</td>\n",
       "      <td>Professional Services</td>\n",
       "      <td>United Kingdom</td>\n",
       "      <td>About Us\\nAt HDR, we specialize in engineering...</td>\n",
       "      <td></td>\n",
       "    </tr>\n",
       "    <tr>\n",
       "      <th>7</th>\n",
       "      <td>171006</td>\n",
       "      <td>Finance Analyst</td>\n",
       "      <td>Manufacturing</td>\n",
       "      <td>United Kingdom</td>\n",
       "      <td>CREATIVITY IS OUR SUPERPOWER. It’s our heritag...</td>\n",
       "      <td>personal pension scheme ||| private healthcare...</td>\n",
       "    </tr>\n",
       "    <tr>\n",
       "      <th>8</th>\n",
       "      <td>177496</td>\n",
       "      <td>Manager Technology_Java- Core</td>\n",
       "      <td>Professional Services</td>\n",
       "      <td>United Kingdom</td>\n",
       "      <td>Publicis Sapient is a digital transformation p...</td>\n",
       "      <td>Comprehensive private healthcare covering pre-...</td>\n",
       "    </tr>\n",
       "    <tr>\n",
       "      <th>9</th>\n",
       "      <td>178576</td>\n",
       "      <td>Global Programmatic Account Director</td>\n",
       "      <td>Professional Services</td>\n",
       "      <td>United Kingdom</td>\n",
       "      <td>We think big. And act bigger. Stay versatile a...</td>\n",
       "      <td></td>\n",
       "    </tr>\n",
       "  </tbody>\n",
       "</table>\n",
       "</div>"
      ],
      "text/plain": [
       "       id  ...                           model_extracted_benefits\n",
       "0  145095  ...                                                   \n",
       "1  145123  ...                                                   \n",
       "2  145210  ...  Fully funded Qualifications ||| Learning and D...\n",
       "3  156197  ...                               hybrid working model\n",
       "4  158803  ...  generous annual leave allowances ||| flexible ...\n",
       "5  160235  ...                                                   \n",
       "6  161234  ...                                                   \n",
       "7  171006  ...  personal pension scheme ||| private healthcare...\n",
       "8  177496  ...  Comprehensive private healthcare covering pre-...\n",
       "9  178576  ...                                                   \n",
       "\n",
       "[10 rows x 6 columns]"
      ]
     },
     "execution_count": 6,
     "metadata": {},
     "output_type": "execute_result"
    },
    {
     "output_type": "stream",
     "name": "stderr",
     "output_type": "stream",
     "text": [
      "huggingface/tokenizers: The current process just got forked, after parallelism has already been used. Disabling parallelism to avoid deadlocks...\nTo disable this warning, you can either:\n\t- Avoid using `tokenizers` before the fork if possible\n\t- Explicitly set the environment variable TOKENIZERS_PARALLELISM=(true | false)\n"
     ]
    }
   ],
   "source": [
    "# Apply NER model to extract benefits \n",
    "def extract_benefits(text):\n",
    "    doc = nlp_ner(text)\n",
    "    return \" ||| \".join([ent.text for ent in doc.ents])\n",
    "\n",
    "df_data['model_extracted_benefits'] = df_data['text'].apply(extract_benefits)\n",
    "df_data.head(10)"
   ]
  },
  {
   "cell_type": "markdown",
   "metadata": {
    "application/vnd.databricks.v1+cell": {
     "cellMetadata": {
      "byteLimit": 2048000,
      "rowLimit": 10000
     },
     "inputWidgets": {},
     "nuid": "155de736-d2fc-47ba-95e8-c42d6a1622c7",
     "showTitle": false,
     "tableResultSettingsMap": {},
     "title": ""
    }
   },
   "source": [
    "### Clean-up function to prepare extracted benefits for Text Categorisation model\n",
    "1. This includes exploding rows so that job descriptions with more than 1 benefit have a benefit per row\n",
    "2. Cleans exploded benefits for grammer/extract characters/etc."
   ]
  },
  {
   "cell_type": "code",
   "execution_count": 0,
   "metadata": {
    "application/vnd.databricks.v1+cell": {
     "cellMetadata": {
      "byteLimit": 2048000,
      "rowLimit": 10000
     },
     "inputWidgets": {},
     "nuid": "e5e20eb7-1fcf-4400-95fe-118794ee4258",
     "showTitle": false,
     "tableResultSettingsMap": {},
     "title": ""
    }
   },
   "outputs": [],
   "source": [
    "def split_benefits(df, model_extracted_benefits, benefits_split):\n",
    "    new_rows = []\n",
    "\n",
    "    # Iterate through the DataFrame\n",
    "    for idx, row in df.iterrows():\n",
    "        benefits = str(row[model_extracted_benefits]).split(' ||| ')\n",
    "        for benefit in benefits:\n",
    "            new_row = row.copy()\n",
    "            new_row[benefits_split] = benefit\n",
    "            new_rows.append(new_row)\n",
    "    return pd.DataFrame(new_rows)"
   ]
  },
  {
   "cell_type": "code",
   "execution_count": 0,
   "metadata": {
    "application/vnd.databricks.v1+cell": {
     "cellMetadata": {
      "byteLimit": 2048000,
      "rowLimit": 10000
     },
     "inputWidgets": {},
     "nuid": "75b8862c-92f4-4335-8e2a-c232b44e62c4",
     "showTitle": false,
     "tableResultSettingsMap": {},
     "title": ""
    }
   },
   "outputs": [
    {
     "output_type": "execute_result",
     "data": {
      "text/html": [
       "<div>\n",
       "<style scoped>\n",
       "    .dataframe tbody tr th:only-of-type {\n",
       "        vertical-align: middle;\n",
       "    }\n",
       "\n",
       "    .dataframe tbody tr th {\n",
       "        vertical-align: top;\n",
       "    }\n",
       "\n",
       "    .dataframe thead th {\n",
       "        text-align: right;\n",
       "    }\n",
       "</style>\n",
       "<table border=\"1\" class=\"dataframe\">\n",
       "  <thead>\n",
       "    <tr style=\"text-align: right;\">\n",
       "      <th></th>\n",
       "      <th>id</th>\n",
       "      <th>title</th>\n",
       "      <th>industry</th>\n",
       "      <th>country</th>\n",
       "      <th>text</th>\n",
       "      <th>model_extracted_benefits</th>\n",
       "      <th>benefits_split</th>\n",
       "    </tr>\n",
       "  </thead>\n",
       "  <tbody>\n",
       "    <tr>\n",
       "      <th>0</th>\n",
       "      <td>145095</td>\n",
       "      <td>Assistant Underwriter</td>\n",
       "      <td>Insurance</td>\n",
       "      <td>United Kingdom</td>\n",
       "      <td>Pen Underwriting have an amazing chance to wor...</td>\n",
       "      <td></td>\n",
       "      <td></td>\n",
       "    </tr>\n",
       "    <tr>\n",
       "      <th>1</th>\n",
       "      <td>145123</td>\n",
       "      <td>Junior Account Handler ( UK Motor Trade Division)</td>\n",
       "      <td>Insurance</td>\n",
       "      <td>United Kingdom</td>\n",
       "      <td>Performs standard tasks using established and ...</td>\n",
       "      <td></td>\n",
       "      <td></td>\n",
       "    </tr>\n",
       "    <tr>\n",
       "      <th>2</th>\n",
       "      <td>145210</td>\n",
       "      <td>DBA</td>\n",
       "      <td>Insurance</td>\n",
       "      <td>United Kingdom</td>\n",
       "      <td>DBA\\nBased in our Ipswich waterfront office, y...</td>\n",
       "      <td>Fully funded Qualifications ||| Learning and D...</td>\n",
       "      <td>Fully funded Qualifications</td>\n",
       "    </tr>\n",
       "    <tr>\n",
       "      <th>2</th>\n",
       "      <td>145210</td>\n",
       "      <td>DBA</td>\n",
       "      <td>Insurance</td>\n",
       "      <td>United Kingdom</td>\n",
       "      <td>DBA\\nBased in our Ipswich waterfront office, y...</td>\n",
       "      <td>Fully funded Qualifications ||| Learning and D...</td>\n",
       "      <td>Learning and Development Courses</td>\n",
       "    </tr>\n",
       "    <tr>\n",
       "      <th>2</th>\n",
       "      <td>145210</td>\n",
       "      <td>DBA</td>\n",
       "      <td>Insurance</td>\n",
       "      <td>United Kingdom</td>\n",
       "      <td>DBA\\nBased in our Ipswich waterfront office, y...</td>\n",
       "      <td>Fully funded Qualifications ||| Learning and D...</td>\n",
       "      <td>25 Days Annual Leave, Plus Bank Holidays</td>\n",
       "    </tr>\n",
       "    <tr>\n",
       "      <th>2</th>\n",
       "      <td>145210</td>\n",
       "      <td>DBA</td>\n",
       "      <td>Insurance</td>\n",
       "      <td>United Kingdom</td>\n",
       "      <td>DBA\\nBased in our Ipswich waterfront office, y...</td>\n",
       "      <td>Fully funded Qualifications ||| Learning and D...</td>\n",
       "      <td>Pension Package</td>\n",
       "    </tr>\n",
       "    <tr>\n",
       "      <th>2</th>\n",
       "      <td>145210</td>\n",
       "      <td>DBA</td>\n",
       "      <td>Insurance</td>\n",
       "      <td>United Kingdom</td>\n",
       "      <td>DBA\\nBased in our Ipswich waterfront office, y...</td>\n",
       "      <td>Fully funded Qualifications ||| Learning and D...</td>\n",
       "      <td>Subsidised Gym Membership</td>\n",
       "    </tr>\n",
       "    <tr>\n",
       "      <th>2</th>\n",
       "      <td>145210</td>\n",
       "      <td>DBA</td>\n",
       "      <td>Insurance</td>\n",
       "      <td>United Kingdom</td>\n",
       "      <td>DBA\\nBased in our Ipswich waterfront office, y...</td>\n",
       "      <td>Fully funded Qualifications ||| Learning and D...</td>\n",
       "      <td>Life Assurance</td>\n",
       "    </tr>\n",
       "    <tr>\n",
       "      <th>2</th>\n",
       "      <td>145210</td>\n",
       "      <td>DBA</td>\n",
       "      <td>Insurance</td>\n",
       "      <td>United Kingdom</td>\n",
       "      <td>DBA\\nBased in our Ipswich waterfront office, y...</td>\n",
       "      <td>Fully funded Qualifications ||| Learning and D...</td>\n",
       "      <td>Group Income Protection</td>\n",
       "    </tr>\n",
       "    <tr>\n",
       "      <th>2</th>\n",
       "      <td>145210</td>\n",
       "      <td>DBA</td>\n",
       "      <td>Insurance</td>\n",
       "      <td>United Kingdom</td>\n",
       "      <td>DBA\\nBased in our Ipswich waterfront office, y...</td>\n",
       "      <td>Fully funded Qualifications ||| Learning and D...</td>\n",
       "      <td>Season Ticket Loans</td>\n",
       "    </tr>\n",
       "  </tbody>\n",
       "</table>\n",
       "</div>"
      ],
      "text/plain": [
       "       id  ...                            benefits_split\n",
       "0  145095  ...                                          \n",
       "1  145123  ...                                          \n",
       "2  145210  ...               Fully funded Qualifications\n",
       "2  145210  ...          Learning and Development Courses\n",
       "2  145210  ...  25 Days Annual Leave, Plus Bank Holidays\n",
       "2  145210  ...                           Pension Package\n",
       "2  145210  ...                 Subsidised Gym Membership\n",
       "2  145210  ...                            Life Assurance\n",
       "2  145210  ...                   Group Income Protection\n",
       "2  145210  ...                       Season Ticket Loans\n",
       "\n",
       "[10 rows x 7 columns]"
      ]
     },
     "execution_count": 8,
     "metadata": {},
     "output_type": "execute_result"
    }
   ],
   "source": [
    "df_split_benefits = split_benefits(df_data, 'model_extracted_benefits', 'benefits_split')\n",
    "df_split_benefits.head(10)"
   ]
  },
  {
   "cell_type": "code",
   "execution_count": 0,
   "metadata": {
    "application/vnd.databricks.v1+cell": {
     "cellMetadata": {
      "byteLimit": 2048000,
      "rowLimit": 10000
     },
     "inputWidgets": {},
     "nuid": "caed5580-72d0-47e2-803e-7efa686e51e8",
     "showTitle": false,
     "tableResultSettingsMap": {},
     "title": ""
    }
   },
   "outputs": [],
   "source": [
    "def clean_dataframe(df, text_column):\n",
    "    # Reset the index to ensure it is properly aligned\n",
    "    df = df.reset_index(drop=True)\n",
    "\n",
    "    # Initialize counter to track total number of replacements\n",
    "    counter_fixes = 0\n",
    "\n",
    "    # Create a new column for the cleaned text\n",
    "    df['benefits_cleaned'] = df[text_column]\n",
    "\n",
    "    # Define the cleaning function\n",
    "    def clean_text(text):\n",
    "        nonlocal counter_fixes\n",
    "        \n",
    "        # Check if the input is a string; if not, return as is\n",
    "        if not isinstance(text, str):\n",
    "            return text\n",
    "        \n",
    "        original_text = text  # Keep the original text for comparison\n",
    "\n",
    "        # Use regex to remove unwanted characters and words at the end\n",
    "        cleaned_text = re.sub(\n",
    "            r'([.,;:!•\\-?(]*\\b(and|or)\\b[.,;:!•\\-?(]*|[.,;:!•\\-?(]+)$',\n",
    "            '',\n",
    "            text\n",
    "        ).strip()\n",
    "\n",
    "        # Additional check for text ending with ')' but no '(' elsewhere\n",
    "        if cleaned_text.endswith(')') and '(' not in cleaned_text[:-1]:\n",
    "            cleaned_text = cleaned_text[:-1].rstrip()\n",
    "\n",
    "        # Update counter if changes were made\n",
    "        if cleaned_text != original_text:\n",
    "            counter_fixes += 1\n",
    "\n",
    "        return cleaned_text\n",
    "\n",
    "    # Apply the cleaning function to the text column\n",
    "    df['benefits_cleaned'] = df[text_column].apply(clean_text)\n",
    "\n",
    "    # Print the total number of changes made\n",
    "    print(f\"Total replacements made: {counter_fixes}\")\n",
    "\n",
    "    return df"
   ]
  },
  {
   "cell_type": "code",
   "execution_count": 0,
   "metadata": {
    "application/vnd.databricks.v1+cell": {
     "cellMetadata": {
      "byteLimit": 2048000,
      "rowLimit": 10000
     },
     "inputWidgets": {},
     "nuid": "395cf01a-af42-4d37-a91f-efd00e8f703a",
     "showTitle": false,
     "tableResultSettingsMap": {},
     "title": ""
    }
   },
   "outputs": [
    {
     "output_type": "stream",
     "name": "stdout",
     "output_type": "stream",
     "text": [
      "Total replacements made: 1\n"
     ]
    }
   ],
   "source": [
    "df_cleaned = clean_dataframe(df_split_benefits, 'benefits_split')\n",
    "df_cleaned = df_cleaned.drop(columns=['text', 'benefits_split'])"
   ]
  },
  {
   "cell_type": "markdown",
   "metadata": {
    "application/vnd.databricks.v1+cell": {
     "cellMetadata": {
      "byteLimit": 2048000,
      "rowLimit": 10000
     },
     "inputWidgets": {},
     "nuid": "0eaa45ba-fb15-46db-8610-b4930b7779d5",
     "showTitle": false,
     "tableResultSettingsMap": {},
     "title": ""
    }
   },
   "source": [
    "## Run extracted benefits through Text Classification model to categorise\n",
    "Again, all I have to do is call the correct 'run_id' to load the model!"
   ]
  },
  {
   "cell_type": "code",
   "execution_count": 0,
   "metadata": {
    "application/vnd.databricks.v1+cell": {
     "cellMetadata": {
      "byteLimit": 2048000,
      "rowLimit": 10000
     },
     "inputWidgets": {},
     "nuid": "cc6814a4-60cd-4203-b687-ee89bb857a0d",
     "showTitle": false,
     "tableResultSettingsMap": {},
     "title": ""
    }
   },
   "outputs": [
    {
     "output_type": "display_data",
     "data": {
      "application/vnd.jupyter.widget-view+json": {
       "model_id": "f7bce93ec7b046b5889880936ef2264b",
       "version_major": 2,
       "version_minor": 0
      },
      "text/plain": [
       "Downloading artifacts:   0%|          | 0/20 [00:00<?, ?it/s]"
      ]
     },
     "metadata": {},
     "output_type": "display_data"
    }
   ],
   "source": [
    "# INSTRUCTION: Edit 'run_id' to match MLFlow of Classification model\n",
    "textclass_run_id = \"5a2e790b17d945a6af3b81d1cc85540d\"\n",
    "\n",
    "textclass_model_uri = f\"runs:/{textclass_run_id}/best\"\n",
    "nlp_textclass = mlflow.spacy.load_model(textclass_model_uri)"
   ]
  },
  {
   "cell_type": "code",
   "execution_count": 0,
   "metadata": {
    "application/vnd.databricks.v1+cell": {
     "cellMetadata": {
      "byteLimit": 2048000,
      "rowLimit": 10000
     },
     "inputWidgets": {},
     "nuid": "71a08d48-e7bd-4538-ad79-a8e20a4deb8b",
     "showTitle": false,
     "tableResultSettingsMap": {},
     "title": ""
    }
   },
   "outputs": [],
   "source": [
    "def extract_labels_info(text):\n",
    "    \"\"\"\n",
    "    Applies the nlp_textclass model to 'text' and returns one column per category in doc.cats, each storing its confidence score (optionally thresholded).\n",
    "    \"\"\"\n",
    "    # Check if 'text' is a non-empty string\n",
    "    if not isinstance(text, str) or not text.strip():\n",
    "        return pd.Series({})\n",
    "    try:\n",
    "        # Apply the NLP categorization model\n",
    "        doc = nlp_textclass(text)\n",
    "    except Exception:\n",
    "        return pd.Series({})\n",
    "    category_scores = {}\n",
    "    for cat_name, cat_score in doc.cats.items():\n",
    "        category_scores[cat_name] = round(cat_score, 3)\n",
    "    return pd.Series(category_scores)"
   ]
  },
  {
   "cell_type": "code",
   "execution_count": 0,
   "metadata": {
    "application/vnd.databricks.v1+cell": {
     "cellMetadata": {
      "byteLimit": 2048000,
      "rowLimit": 10000
     },
     "inputWidgets": {},
     "nuid": "4f1c2a62-e3ba-4228-8f8f-abdc4500d9f2",
     "showTitle": false,
     "tableResultSettingsMap": {},
     "title": ""
    }
   },
   "outputs": [],
   "source": [
    "# Classifiy benefits using Model\n",
    "df_results = df_cleaned['benefits_cleaned'].apply(\n",
    "    lambda x: extract_labels_info(x)\n",
    ")\n",
    "df_benefits_classified = df_cleaned.join(df_results)"
   ]
  },
  {
   "cell_type": "markdown",
   "metadata": {
    "application/vnd.databricks.v1+cell": {
     "cellMetadata": {
      "byteLimit": 2048000,
      "rowLimit": 10000
     },
     "inputWidgets": {},
     "nuid": "a7cc6781-8cc1-4bee-aa61-9494994b1486",
     "showTitle": false,
     "tableResultSettingsMap": {},
     "title": ""
    }
   },
   "source": [
    "## Set a single overall confidence threshold to apply to all benefits\n",
    "For every benefit, the Benefits Text Classification model generates a confidence level (0 to 1) per predefined benefit category. The choice of the confidence threshold decides how confident the model should be when categorising a benefit (the higher, the more confident it needs to be!)"
   ]
  },
  {
   "cell_type": "code",
   "execution_count": 0,
   "metadata": {
    "application/vnd.databricks.v1+cell": {
     "cellMetadata": {
      "byteLimit": 2048000,
      "rowLimit": 10000
     },
     "inputWidgets": {},
     "nuid": "31807686-9e7c-4033-af22-5178b278a0b8",
     "showTitle": false,
     "tableResultSettingsMap": {},
     "title": ""
    }
   },
   "outputs": [],
   "source": [
    "# 0.9 is the industry standard for 'very accurate' and suggested to be set at this level\n",
    "\n",
    "overall_threshold = 0.9"
   ]
  },
  {
   "cell_type": "code",
   "execution_count": 0,
   "metadata": {
    "application/vnd.databricks.v1+cell": {
     "cellMetadata": {
      "byteLimit": 2048000,
      "rowLimit": 10000
     },
     "inputWidgets": {},
     "nuid": "0912041d-b29f-4f23-b6df-65e716e166fe",
     "showTitle": false,
     "tableResultSettingsMap": {},
     "title": ""
    }
   },
   "outputs": [],
   "source": [
    "def extract_labels_info_single_threshold(text, overall_threshold):\n",
    "    \"\"\"\n",
    "    Applies the nlp_categorisation model to 'text' and returns:\n",
    "      - 'labels': a list of categories where confidence >= threshold\n",
    "      - 'scores': the corresponding confidence scores of the above\n",
    "    All categories are measured against the same threshold.\n",
    "    \"\"\"\n",
    "    # 1. Quick checks for valid text\n",
    "    if not isinstance(text, str) or not text.strip():\n",
    "        return pd.Series({'labels': [], 'scores': []})\n",
    "    \n",
    "    # 2. Attempt to apply the model\n",
    "    try:\n",
    "        doc = nlp_textclass(text)\n",
    "    except Exception:\n",
    "        return pd.Series({'labels': [], 'scores': []})\n",
    "    \n",
    "    # 3. If doc.cats is empty or missing\n",
    "    if not hasattr(doc, 'cats') or not doc.cats:\n",
    "        return pd.Series({'labels': [], 'scores': []})\n",
    "    \n",
    "    # 4. Sort categories by descending confidence\n",
    "    sorted_cats = sorted(doc.cats.items(), key=lambda item: item[1], reverse=True)\n",
    "    \n",
    "    # 5. Filter categories using the single threshold\n",
    "    labels_and_scores = [(lbl, sc) for (lbl, sc) in sorted_cats if sc >= overall_threshold]\n",
    "    \n",
    "    # 6. Build lists for labels and scores\n",
    "    labels = [lbl for (lbl, sc) in labels_and_scores]\n",
    "    scores = [round(sc, 3) for (lbl, sc) in labels_and_scores]\n",
    "    \n",
    "    return pd.Series({\n",
    "        'labels': labels,\n",
    "        'scores': scores\n",
    "    })"
   ]
  },
  {
   "cell_type": "code",
   "execution_count": 0,
   "metadata": {
    "application/vnd.databricks.v1+cell": {
     "cellMetadata": {
      "byteLimit": 2048000,
      "rowLimit": 10000
     },
     "inputWidgets": {},
     "nuid": "53bd55fe-72e0-4825-aaf8-a63ac92ad594",
     "showTitle": false,
     "tableResultSettingsMap": {},
     "title": ""
    }
   },
   "outputs": [],
   "source": [
    "# Applying confidence threshold\n",
    "df_results = df_benefits_classified['benefits_cleaned'].apply(lambda x: extract_labels_info_single_threshold(x, overall_threshold))\n",
    "df_benefits_classified_threshold = df_benefits_classified.join(df_results)"
   ]
  },
  {
   "cell_type": "code",
   "execution_count": 0,
   "metadata": {
    "application/vnd.databricks.v1+cell": {
     "cellMetadata": {
      "byteLimit": 2048000,
      "rowLimit": 10000
     },
     "inputWidgets": {},
     "nuid": "616c6bd9-f9a2-4764-a8b7-61dae00d6719",
     "showTitle": false,
     "tableResultSettingsMap": {},
     "title": ""
    }
   },
   "outputs": [
    {
     "output_type": "execute_result",
     "data": {
      "text/html": [
       "<div>\n",
       "<style scoped>\n",
       "    .dataframe tbody tr th:only-of-type {\n",
       "        vertical-align: middle;\n",
       "    }\n",
       "\n",
       "    .dataframe tbody tr th {\n",
       "        vertical-align: top;\n",
       "    }\n",
       "\n",
       "    .dataframe thead th {\n",
       "        text-align: right;\n",
       "    }\n",
       "</style>\n",
       "<table border=\"1\" class=\"dataframe\">\n",
       "  <thead>\n",
       "    <tr style=\"text-align: right;\">\n",
       "      <th></th>\n",
       "      <th>id</th>\n",
       "      <th>title</th>\n",
       "      <th>industry</th>\n",
       "      <th>country</th>\n",
       "      <th>benefits_cleaned</th>\n",
       "      <th>labels</th>\n",
       "      <th>scores</th>\n",
       "    </tr>\n",
       "  </thead>\n",
       "  <tbody>\n",
       "    <tr>\n",
       "      <th>0</th>\n",
       "      <td>145095</td>\n",
       "      <td>Assistant Underwriter</td>\n",
       "      <td>Insurance</td>\n",
       "      <td>United Kingdom</td>\n",
       "      <td></td>\n",
       "      <td>[]</td>\n",
       "      <td>[]</td>\n",
       "    </tr>\n",
       "    <tr>\n",
       "      <th>1</th>\n",
       "      <td>145123</td>\n",
       "      <td>Junior Account Handler ( UK Motor Trade Division)</td>\n",
       "      <td>Insurance</td>\n",
       "      <td>United Kingdom</td>\n",
       "      <td></td>\n",
       "      <td>[]</td>\n",
       "      <td>[]</td>\n",
       "    </tr>\n",
       "    <tr>\n",
       "      <th>2</th>\n",
       "      <td>145210</td>\n",
       "      <td>DBA</td>\n",
       "      <td>Insurance</td>\n",
       "      <td>United Kingdom</td>\n",
       "      <td>Fully funded Qualifications</td>\n",
       "      <td>[]</td>\n",
       "      <td>[]</td>\n",
       "    </tr>\n",
       "    <tr>\n",
       "      <th>3</th>\n",
       "      <td>145210</td>\n",
       "      <td>DBA</td>\n",
       "      <td>Insurance</td>\n",
       "      <td>United Kingdom</td>\n",
       "      <td>Learning and Development Courses</td>\n",
       "      <td>[Learning_&amp;_Development_Benefits]</td>\n",
       "      <td>[1.0]</td>\n",
       "    </tr>\n",
       "    <tr>\n",
       "      <th>4</th>\n",
       "      <td>145210</td>\n",
       "      <td>DBA</td>\n",
       "      <td>Insurance</td>\n",
       "      <td>United Kingdom</td>\n",
       "      <td>25 Days Annual Leave, Plus Bank Holidays</td>\n",
       "      <td>[Paid_Time_Off]</td>\n",
       "      <td>[1.0]</td>\n",
       "    </tr>\n",
       "    <tr>\n",
       "      <th>5</th>\n",
       "      <td>145210</td>\n",
       "      <td>DBA</td>\n",
       "      <td>Insurance</td>\n",
       "      <td>United Kingdom</td>\n",
       "      <td>Pension Package</td>\n",
       "      <td>[Retirement]</td>\n",
       "      <td>[1.0]</td>\n",
       "    </tr>\n",
       "    <tr>\n",
       "      <th>6</th>\n",
       "      <td>145210</td>\n",
       "      <td>DBA</td>\n",
       "      <td>Insurance</td>\n",
       "      <td>United Kingdom</td>\n",
       "      <td>Subsidised Gym Membership</td>\n",
       "      <td>[Physical_Wellbeing]</td>\n",
       "      <td>[1.0]</td>\n",
       "    </tr>\n",
       "    <tr>\n",
       "      <th>7</th>\n",
       "      <td>145210</td>\n",
       "      <td>DBA</td>\n",
       "      <td>Insurance</td>\n",
       "      <td>United Kingdom</td>\n",
       "      <td>Life Assurance</td>\n",
       "      <td>[Risk_Benefits]</td>\n",
       "      <td>[0.998]</td>\n",
       "    </tr>\n",
       "    <tr>\n",
       "      <th>8</th>\n",
       "      <td>145210</td>\n",
       "      <td>DBA</td>\n",
       "      <td>Insurance</td>\n",
       "      <td>United Kingdom</td>\n",
       "      <td>Group Income Protection</td>\n",
       "      <td>[Risk_Benefits]</td>\n",
       "      <td>[0.997]</td>\n",
       "    </tr>\n",
       "    <tr>\n",
       "      <th>9</th>\n",
       "      <td>145210</td>\n",
       "      <td>DBA</td>\n",
       "      <td>Insurance</td>\n",
       "      <td>United Kingdom</td>\n",
       "      <td>Season Ticket Loans</td>\n",
       "      <td>[Commuting_Benefits]</td>\n",
       "      <td>[1.0]</td>\n",
       "    </tr>\n",
       "  </tbody>\n",
       "</table>\n",
       "</div>"
      ],
      "text/plain": [
       "       id  ...   scores\n",
       "0  145095  ...       []\n",
       "1  145123  ...       []\n",
       "2  145210  ...       []\n",
       "3  145210  ...    [1.0]\n",
       "4  145210  ...    [1.0]\n",
       "5  145210  ...    [1.0]\n",
       "6  145210  ...    [1.0]\n",
       "7  145210  ...  [0.998]\n",
       "8  145210  ...  [0.997]\n",
       "9  145210  ...    [1.0]\n",
       "\n",
       "[10 rows x 7 columns]"
      ]
     },
     "execution_count": 17,
     "metadata": {},
     "output_type": "execute_result"
    }
   ],
   "source": [
    "columns_to_drop = ['model_extracted_benefits', 'Learning_&_Development_Benefits', 'Emotional_Wellbeing', 'Variable_Pay_Programs', 'Healthcare_Benefits', 'Financial_Wellbeing', 'Commuting_Benefits', 'DE&I_Benefits', 'Relocation_&_Housing_Programs', 'Referral_Programs', 'Maternity_Paternity_and_Parental_Leave', 'Perks', 'Special_Leave', 'Paid_Time_Off', 'Meal_Benefits', 'Other', 'Physical_Wellbeing', 'Flexible_Working_Benefits', 'Social_Wellbeing', 'Remote_Working_Benefits', 'Retirement', 'Company_Car_Benefits', 'Risk_Benefits', 'Vacation_Purchase_Programs', 'Adoption_and_Fertility']\n",
    "\n",
    "df_benefits_classified_threshold = df_benefits_classified_threshold.drop(columns=columns_to_drop)\n",
    "df_benefits_classified_threshold.head(10)"
   ]
  },
  {
   "cell_type": "markdown",
   "metadata": {
    "application/vnd.databricks.v1+cell": {
     "cellMetadata": {
      "byteLimit": 2048000,
      "rowLimit": 10000
     },
     "inputWidgets": {},
     "nuid": "c2f8ce6e-9f71-4893-a181-1e9bf66c5ff8",
     "showTitle": false,
     "tableResultSettingsMap": {},
     "title": ""
    }
   },
   "source": [
    "## Visualising some high-level insights\n",
    "\n",
    "The dataset we've analysed is for a sample of UK job descriptions, scraped from various job posting websites, for Q4 2024\n",
    "\n",
    "We will visualise:\n",
    "1. Most popular benefits\n",
    "2. Benefit popularity differences between industries"
   ]
  },
  {
   "cell_type": "code",
   "execution_count": 0,
   "metadata": {
    "application/vnd.databricks.v1+cell": {
     "cellMetadata": {
      "byteLimit": 2048000,
      "rowLimit": 10000
     },
     "inputWidgets": {},
     "nuid": "aac64afb-e9a5-463e-aac9-d74b4d7ec09e",
     "showTitle": false,
     "tableResultSettingsMap": {},
     "title": ""
    }
   },
   "outputs": [],
   "source": [
    "import matplotlib.pyplot as plt\n",
    "\n",
    "# 1. Explode the 'labels' column to get correct count numbes\n",
    "df_exploded = df_benefits_classified_threshold.explode('labels')\n",
    "\n",
    "# 2. Count occurances for each benefit category\n",
    "benefit_categories = ['Learning_&_Development_Benefits', 'Emotional_Wellbeing', 'Variable_Pay_Programs', 'Healthcare_Benefits', 'Financial_Wellbeing', 'Commuting_Benefits', 'DE&I_Benefits', 'Relocation_&_Housing_Programs', 'Referral_Programs', 'Maternity_Paternity_and_Parental_Leave', 'Special_Leave', 'Meal_Benefits', 'Other', 'Physical_Wellbeing', 'Flexible_Working_Benefits', 'Social_Wellbeing', 'Remote_Working_Benefits', 'Company_Car_Benefits', 'Risk_Benefits', 'Vacation_Purchase_Programs', 'Adoption_and_Fertility']\n",
    "\n",
    "benefit_counts = df_exploded['labels'].value_counts().reindex(benefit_categories, fill_value=0)\n",
    "sorted_benefit_counts = benefit_counts.sort_values(ascending=True)"
   ]
  },
  {
   "cell_type": "code",
   "execution_count": 0,
   "metadata": {
    "application/vnd.databricks.v1+cell": {
     "cellMetadata": {
      "byteLimit": 2048000,
      "rowLimit": 10000
     },
     "inputWidgets": {},
     "nuid": "07ea8b02-bcd2-4960-8975-4d4e3a1fb048",
     "showTitle": false,
     "tableResultSettingsMap": {},
     "title": ""
    }
   },
   "outputs": [
    {
     "output_type": "display_data",
     "data": {
      "image/png": "[encoded data removed]",
      "text/plain": [
       "<Figure size 1000x600 with 1 Axes>"
      ]
     },
     "metadata": {},
     "output_type": "display_data"
    }
   ],
   "source": [
    "# 3. Plot bar chart\n",
    "color_map = {\n",
    "    'Flexible_Working_Benefits': 'red',\n",
    "    'Remote_Working_Benefits': 'red',\n",
    "    'Emotional_Wellbeing': 'green',\n",
    "    'Physical_Wellbeing': 'green',\n",
    "    'Social_Wellbeing':'green',\n",
    "    'Financial_Wellbeing':'green'\n",
    "}\n",
    "\n",
    "bar_colors = [color_map.get(label, 'skyblue') for label in sorted_benefit_counts.index]\n",
    "\n",
    "plt.figure(figsize=(10,6))\n",
    "plt.barh(sorted_benefit_counts.index, sorted_benefit_counts.values, color=bar_colors)\n",
    "plt.xlabel('Count')\n",
    "plt.ylabel('Benefit Category')\n",
    "plt.title('Benefit popularity in the UK')\n",
    "plt.tight_layout()\n",
    "plt.show()"
   ]
  },
  {
   "cell_type": "markdown",
   "metadata": {
    "application/vnd.databricks.v1+cell": {
     "cellMetadata": {
      "byteLimit": 2048000,
      "rowLimit": 10000
     },
     "inputWidgets": {},
     "nuid": "6bdc4254-5b47-4820-9902-e49c76b4b4e9",
     "showTitle": false,
     "tableResultSettingsMap": {},
     "title": ""
    }
   },
   "source": [
    "## Insights:\n",
    "1. **Flexible / Hybrid Working is here to stay in the UK:** 'Flexible_Working_Benefits' relates to benefits allowing employees flexibility to work from home. It is extremely popular, compared to 'Remote_Working_Benefits' which is the least popular benefit \n",
    "2. **Employers are prioritising employee mental health:** 'Emotional_Wellbeing' relates to benefits supporting employee's mental health e.g. EPA, counselling, therapy. This is significantly more popular than the other 3 types of wellbeing benefits: Physical_Wellbeing, Financial_Wellbeing, Social_Wellbeing"
   ]
  },
  {
   "cell_type": "markdown",
   "metadata": {
    "application/vnd.databricks.v1+cell": {
     "cellMetadata": {
      "byteLimit": 2048000,
      "rowLimit": 10000
     },
     "inputWidgets": {},
     "nuid": "93dafd7c-792a-4dce-8109-1ae84cd7a520",
     "showTitle": false,
     "tableResultSettingsMap": {},
     "title": ""
    }
   },
   "source": [
    "## Future Insights:\n",
    "True insight comes about when we're comparing our data! See below some ideas\n",
    "1. **How does benefits differ per industry:** Different industries priotise benefits differently, and HR professionals hiring will need to note that e.g. flexible working benefits would be a priority for industries like Technology & Financial Services vs Retail\n",
    "2. **How has benefits changed over time:** This tells us about benefit trends, helping HR professionals future-proof employee retention by getting ahead of the trend e.g. benefits supporting employee mental health has been rising in the 2020s vs the previous decade"
   ]
  },
  {
   "cell_type": "markdown",
   "metadata": {
    "application/vnd.databricks.v1+cell": {
     "cellMetadata": {
      "byteLimit": 2048000,
      "rowLimit": 10000
     },
     "inputWidgets": {},
     "nuid": "1f638ce9-315a-4a58-ad39-1ac83a10b9f1",
     "showTitle": false,
     "tableResultSettingsMap": {},
     "title": ""
    }
   },
   "source": [
    "## "
   ]
  }
 ],
 "metadata": {
  "application/vnd.databricks.v1+notebook": {
   "computePreferences": null,
   "dashboards": [],
   "environmentMetadata": null,
   "language": "python",
   "notebookMetadata": {
    "pythonIndentUnit": 4
   },
   "notebookName": "(Clone) (git) (PROD) Using Benefits NER and Text Categorisation",
   "widgets": {}
  },
  "language_info": {
   "name": "python"
  }
 },
 "nbformat": 4,
 "nbformat_minor": 0
}