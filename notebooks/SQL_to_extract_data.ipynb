{
 "cells": [
  {
   "cell_type": "code",
   "execution_count": 0,
   "metadata": {
    "application/vnd.databricks.v1+cell": {
     "cellMetadata": {
      "byteLimit": 2048000,
      "implicitDf": true,
      "rowLimit": 10000
     },
     "inputWidgets": {},
     "nuid": "d04801b8-b2c7-439d-b12f-23df3c302d50",
     "showTitle": false,
     "tableResultSettingsMap": {},
     "title": ""
    }
   },
   "outputs": [
    {
     "output_type": "display_data",
     "data": {
      "text/html": [
       "<style scoped>\n",
       "  .table-result-container {\n",
       "    max-height: 300px;\n",
       "    overflow: auto;\n",
       "  }\n",
       "  table, th, td {\n",
       "    border: 1px solid black;\n",
       "    border-collapse: collapse;\n",
       "  }\n",
       "  th, td {\n",
       "    padding: 5px;\n",
       "  }\n",
       "  th {\n",
       "    text-align: left;\n",
       "  }\n",
       "</style><div class='table-result-container'><table class='table-result'><thead style='background-color: white'><tr><th>id</th><th>company</th><th>title</th><th>industry</th><th>country</th><th>job_description</th></tr></thead><tbody><tr><td>62680</td><td>Apple</td><td>Optical Engineer - Camera Hardware</td><td>Technology</td><td>United States</td><td>Why Apple? We live in a mobile and device driven world where knowledge of the physical world around us is needed. We rely on this knowledge to get around, to learn about our environment and to enable spectacular new features for custom applications. Apple is meeting those needs as robustly and as creatively as possible and is interested in people who want to help meet that commitment. The success we are striving will be the result of very skilled people working in an environment which cultivates creativity, partnership, and thinking of old problems in new ways. If that sounds like the kind of environment that you find intriguing, then let's talk. These elements come together to make Apple an amazing environment for motivated people to do the greatest work of their lives. You will become part of a team that sets the standard in fostering excellence, creativity and innovation. Will you help us design the next generation of revolutionary Apple products? The Camera Hardware Engineering group is responsible for all research, design, development, test, and qualification of camera hardware for Apple products. The team is looking for an Optical Engineer to work on advanced optical technology development. You will have 5+ years experience in the area of lens design, metrology and integration.Experience in lens design, tolerance analysisYou have done stray light analysisYou will know lens characterization methodology and instrumentationProficiency with ZEMAX, CODE V, FRED, LightTool, etc.Ability to perform comprehensive optical and image quality characterization of the lens and the camera moduleSupport metrology methodology for camera lens testing and develop appropriate test charts and methods for camera evaluationInterface with the assembly and packaging groups to support integration of camera lens into module Design new lenses, characterize and integrate into CMOS imager sensor based camera modules. Complete analysis of the optical element's influence on the image quality characteristics of the camera module. Work closely with lens supplier for prototype design, evaluation and MTF testing. Drive development of advanced metrology methods. Working knowledge of thin film physics and fabrication Track record of imaging related innovations Working knowledge of optomechanics Must be high energy, multi-tasker, resourceful problem solver, ability to work under pressure, take initiative</td></tr><tr><td>62985</td><td>Apple</td><td>SoC Power Modeling Engineer</td><td>Technology</td><td>United States</td><td>Do you want to utilize your engineering background to make big things happen? Can you influence, connect, get results and communicate effectively? Can you deliver on a predictable and dynamic schedule? Do you have a passion for crafting entirely new solutions? Do you love building without precedent? As part of our Digital Design Engineering group, you’ll take imaginative and revolutionary ideas and determine how to turn them into reality. You and your team will apply engineering fundamentals and start from scratch if needed, bringing visionary ideas to the real world. Your efforts will be groundbreaking, often literally. Join us, and you’ll help design the tools that allow us to bring customers experiences they’ve never before envisioned. You will be part of an exciting silicon design group that is responsible for designing state-of-the-art ASICs. We have an extraordinary opportunity for Power Modeling Engineers. In this highly visible role, you will be responsible for SOC power simulation and power modeling, SOC use case power analysis, and drive the future SOC power optimization. We are looking for applicants with experience in SOC power simulation and modeling, hardware power simulation and analysis flow.Familiarity with ASIC power analysis and optimization.Familiarity with Verilog and System Verilog.Familiarity with script writing in Python, Perl or Tcl.Experience with SOC power modeling, low power design and power optimization.Familiarity with power impact at architecture, logic design, and circuit levels.Familiarity with multimedia data processing is a plus.Familiarity with SOC design flow and methodology.Familiarity with power simulation and power optimization.Silicon power measurement experience is a plus.Strong communication skills are a pre-requisite since you will collaborate with a lot of different groups. Imagine yourself at the center of our SOC design effort, collaborating with all fields, playing a strategic role of getting functional products to millions of customers quickly. You will have the opportunity to integrate and come-up with new ideas, as well as work with a team of talented engineers. The main responsibility of this role is to drive the SOC power modeling and optimization for very power efficient products: - Work with architects to resolve interesting use-cases to simulate. - Provide power projection for the future projects based on analysis. - Create test cases within the design verification team’s environment. - Work with logic teams to determine the correct functionality or enhance functionality for power reduction. - Work with Architecture and design team to model the SOC power for use cases. - Develop IP power model on new architecture design, providing power data for performance/power/area trade-offs. - Work with multi-functional teams on improving power modeling. - Understand interactions of the product at the software and system level that impact power. Apple is an Equal Opportunity Employer that is committed to inclusion and diversity. We also take affirmative action to offer employment and advancement opportunities to all applicants, including minorities, women, protected veterans, and individuals with disabilities. Apple will not discriminate or retaliate against applicants who inquire about, disclose, or discuss their compensation or that of other applicants.</td></tr><tr><td>63087</td><td>Apple</td><td>Embedded Software QA Engineer</td><td>Technology</td><td>United States</td><td>The Technology development group at Apple is looking for an exceptional Software QA engineer to work along side the Engineering development team to drive Software Quality and integration. As a member of our fast-paced group, you will have a unique and rewarding opportunity to work on cutting edge embedded devices and low level firmware . Our environment fosters product innovation, rapid product iteration, and an environment that values initiative. Quality is an important aspect of our products, and as an Embedded SW QA Engineer you will have a significant impact on helping to deliver functional and stable products to millions of customers in a rapidly changing environment. You will bring your upbeat personality with excellent communication and interpersonal skills, attention to detail, and real passion for a positive user experience . Experience with hardware and/or software development lifecycle processes.2+ years of QA experience, preferably on consumer hardware/software products.Knowledge of C and modern scripting or compiled languages (Python, JavaScript, Ruby, Objective-C, Swift, C++, etc.)Knowledge of Unix and Unix shell scripting.Ability to communicate technical concepts to a non-technical audience.Deep understanding of SQA methodologies & practices.Ability to solve hard problems with creative and sustainable solutions.Be detail oriented and strive for the best product for our customers. - Define, implement, and execute tests focused on embedded devices and low level firmware. - Isolate and report defects effectively quantifying customer impact, and verify fixes through regression testing and other test methodologies. - Be a vocal proponent for quality internally and externally.</td></tr><tr><td>63106</td><td>Apple</td><td>Motion Sensing Systems Engineer- Pressure Sensing</td><td>Technology</td><td>United States</td><td>You will play a key role in specifying, developing, characterizing, and validating motion sensing systems. You should be familiar with technologies such as MEMS pressure sensors and/or waterproof sensor packages. You should also be familiar with product integration, and manufacturing technologies related to such sensors. The Motion Sensing Hardware team features a collaborative environment with creative, smart people and cutting edge technologies. This team integrates MEMS, magnetic and capacitive sensors across a variety of Apple products such as iPhones, iPads, and MacBooks. Engineering excellence and thoroughness are expected and encouraged. Invention and patent creation are expected and supported. Pushing the envelope to design and ship innovative products with best-in-class technologies and user experiences is the main goal of this sensing technology team at Apple. 2+ years of hands-on experience and proven track record in sensing system hardware engineering.Experience in architecture, design, characterization, and validation of sensing systems that includes theory of operation, signal processing, fabrication, packaging and design trade-offs.Fundamental knowledge and experience in physics, mechanical, electrical, and material science engineering, and manufacturing technology relevant for sensor fabrication.Proficient in modeling, data collection, data analysis, and statistical analysis tools (e.g. Python, JMP).Excellent written and verbal communication skills and solid teamwork and leadership skills.Willingness and ability to travel are required Core Responsibilities: Diagnose engineering issues with true scientific method driving to definitive root cause. Identify, create, and document new sensing system metrics that deliver performance and matter to customer perception. Develop analytical models for new technology and features. Verify and improve models with experiments and data collection. Work cross-functionally to identify and specify critical performance parameters and error sensitivities. Develop measurement methods and equipment that are repeatable, reproducible, and automated as appropriate to enable thorough validation coverage of sensors on tight development schedules. Support engineering build activities with performance validation measurements, yield optimization, and failure analysis coordination. Performance matching across multiple sources for sensors. Work with suppliers to proactively identify and resolve issues of matching to our specs. Analyze trade-offs among performance, manufacturability, size, schedule and cost. Travel to supplier facilities and manufacturing sites for production validation and issues resolution. Create and help improve engineering requirements specifications for sensors. Prepare and deliver presentations to clearly communicate technical status, risks and mitigation strategies for ongoing sensing system programs.</td></tr><tr><td>63155</td><td>Apple</td><td>Cellular Layer1 Common Firmware Engineer</td><td>Technology</td><td>United States</td><td>Do you have a passion for invention and self-challenge? Do you thrive on pushing the limits of what’s considered feasible? As part of a world class modem team, you’ll craft sophisticated leading-edge embedded firmware that deliver more performance in our products than ever before. You’ll work across disciplines to transform improved hardware elements into a single, integrated design. Join us, and you’ll help us innovate new cellular technologies that continually outperform the previous iterations. By collaborating with other product development groups across Apple, you’ll push the industry boundaries of what wireless systems can do and improve the product experience for our customers across the world. Do you want to have an impact on every single Apple product? As a Cellular Layer 1 Common Firmware Engineer on this team, you will be at the center of the 5G/4G/multimode cellular firmware effort within a silicon design and firmware development group responsible for designing and productizing state-of-the-art cellular SoCs. This position requires someone comfortable will all aspects of embedded software development, that thrives in a dynamic cross-functional organization, is not afraid to debate ideas openly, and is flexible enough to pivot on constantly evolving requirements. Deep understanding of software engineering principles, and core computer science fundamentals.Highly competent with C and C++ and assembly programming, solid understanding of compilers, build and source code control tools.Significant experience with embedded real-time programming for low latency and memory constrained applicationsSignificant experience and solid understanding and programming of cache-friendly, data-oriented objects and handles.Significant experience with Real Time Operating Systems (RTOS) applications, multi-core, multi-threaded and concurrent programming.Experience with ISS, virtual platforms, silicon prototyping and emulation systems.Experience in core BSP implementation.Experience in scripting languages like Perl and Python.Proficiency in debugging embedded software systems.Familiarity with ETM, ETB, JTAG, HW breakpoints, Lauterbach, TRACE32 and any other trace and debug SW/tools.Understanding of 5G and 4G 3GPP standards, or similar Wireless standards(2G,3G, WiFi) and competent knowledge on Physical Layer control is a plus. • Specify, design, and implement a multi-mode L1 firmware architecture of a state-of-the-art mobile wireless communications system. • Implement and/or customize CPU core infrastructure and drivers. Example areas include: o Symmetric Multi Processing (SMP) RTOS configuration. o Asymmetric Multi Processing (AMP) RTOS configuration. o Interrupt controller configurations. o MMU/MPU configuration. o Boot-Loader configurations. o Cache Management. o RTOS thread management. o DMA and timer Drivers. o Power and clock drivers. • Model HW blocks in Virtual Platforms (VP). o Integrate CPU ISS into VP. o Add device model like DMAs, timers etc. o Model 4g/5g protocol stack blocks. • Design test frameworks. o Unit test frameworks. o Integration test frameworks. o Integrate code coverage, debugger and profiler tools. o Automation scripts to run and analyze the results. o Adapt test framework to work on HW, FPGA and virtual platforms. • Trace and Debug o Working with JTAGs, HW breakpoints, conditional breakpoints. o PC tracing using ETB. o Implement efficient on chip time stamped trace logs. o Implement performance monitor traces. o Implement SW for log packet transfer. • Work with silicon designers to define processor, bus, and memory subsystems. • Evaluate and implement leading edge tools for build, formal verification and test. • Define methodologies and best practices.</td></tr><tr><td>63271</td><td>Apple</td><td>RF Cellular Transceiver SoC Validation Engineer</td><td>Technology</td><td>null</td><td>Would you like to join Apple’s growing cellular wireless design team? Do you thrive on pushing the limits of integration for highly complex RF Cellular SOCs in advanced technology nodes? Our team is responsible for all aspects of cellular transceivers silicon development with a particular emphasis on highly integrated and efficient designs and technologies that transform the user experience at the product level. \n",
       "\n",
       "We invite you to join us if you are looking for a challenging Validation Engineering position to work on RF cellular transceiver SoCs! You will work with cellular RFIC circuit designers and system integration engineers to validate major RF cellular system blocks via focused block-level tests and also transceiver level testing for coexistence within the radio and with other radios. Proven verification skills in problem-solving, constrained random testing, and debugging.Extensive experience with bringing up and testing RF cellular SoC, performing system integration, characterization and optimization.Experience in end-to-end RF measurements, as well as building block characterization like LNAs, down-converters, up-converters, BBFs, Driver amplifiers, power amplifiers, PLLs, VCOs, high-performance ADCs, and DACs.The ability to collaborate with different teams (IC Design, RF Systems, Firmware, and HW board teams) within Apple.Good understanding of board schematics, experience with HW Silicon validation boards schematic reviews, and coming up with HW board requirements for doing SOC validation.Experience with digital interfaces SMB/SPMI/QSPI/SPI/UART/I2C/JTAG.Bench Automation experience and proficiency with measurement automation tools and scripting languages, such as Python, Matlab, C++ scripts.Experience with lab equipment such as RF spectrum analyzers, network analyzers, Vector analyzers, RF signal generators, phase noise analyzers, oscilloscopes, DMM’s, etc.Experience with MAC or PHY Verification would be useful.Please be ready to work with ATE engineers and on mass production integrated circuits. As an RF transceiver SOC validation engineer, you will engage in the key task of designing, developing, and testing that cellular SoCs implement designs to their specifications. This work includes reading and understanding design specifications and schematics and using highly specialized test platforms to validate proper operations of the RF SOC. Tasks will include working with scripting languages, including Python and Tcl, in conjunction with embedded FW to confirm functionality and evaluating the performance of RF Cellular SoCs. Apple is an equal opportunity employer that is committed to inclusion and diversity. We also take affirmative action to offer employment and advancement opportunities to all applicants, including minorities, women, protected veterans, and individuals with disabilities. Apple will not discriminate or retaliate against applicants who inquire about, disclose, or discuss their compensation or that of other applicants.We will ensure that individuals with disabilities are provided reasonable accommodation to participate in the job application or interview process, to perform essential job functions, and to receive other benefits and privileges of employment. Please contact us to request accommodation.</td></tr><tr><td>63574</td><td>Apple</td><td>Wireless Platform Integration Architect – Platform Architecture</td><td>Technology</td><td>null</td><td>Imagine what you could do here. At Apple, new ideas have a way of becoming extraordinary products, services, and customer experiences very quickly. Bring passion and dedication to your job and there's no telling what you could accomplish! Dynamic, smart people and inspiring, innovative technologies are the norms here. The people who work here have reinvented entire industries with all Apple Hardware products. The same passion for innovation that goes into our products also applies to our practices strengthening our commitment to leave the world better than we found it. \n",
       "\n",
       "Join us to help deliver the next groundbreaking Apple product. Do you love working on challenges that no one has solved yet? As a member of our dynamic group, you will have the unique and rewarding opportunity to craft upcoming products that will delight and inspire millions of Apple's customers every single day. Join our Wireless Architecture team!\n",
       "\n",
       "Mobile internet access through cellular technologies has made always-connected devices ubiquitous. We keep pushing the boundaries and bring new experiences to our customers. We continuously try to understand and find out which new cellular features will benefit our customers' experience. We work cross-functionally to identify new features and assess their impact as well as their customer added value.\n",
       "\n",
       "In this role you will a key member to help the integration of wireless technologies in our future devices. 10+ years of relevant experienceWe are counting on your expertise with cellular chipset architectures (such as details of baseband processing systems, RF transceivers and power management units), including aspects of system integration such as high-bandwidth host interfaces, platform operational modes, RF front-end control and power managementUnderstanding of wireless performance metrics and power optimization approachesDemonstrated ability to effectively lead cross-functional teams and proficiency in leading technical initiatives across a cross functional organizationExcellent communication and documentation skills and ability to develop detailed system architecture and design documentation. In this role you will be a key member of the Platform Architecture team acting as the Cellular Systems Architect in product development projects. \n",
       "- Develop & document the cellular product architecture\n",
       "- Analyze, model, and track cellular HW requirements & performance targets in product projects\n",
       "- Drive cross-functional teams to ensure consistency of chipset architecture with modem system requirements, such as RF performance, system control architecture, HW / SW interface architectures and longer term technology roadmaps \n",
       "- Drive cross-functional teams throughout the product development cycle on resolving system level issues.</td></tr><tr><td>63645</td><td>Apple</td><td>Senior Product Manager, Customer Experience - Ad Platforms</td><td>Technology</td><td>null</td><td>Imagine what you could do here. At Apple, excellent ideas have a way of becoming extraordinary products, services, and customer experiences very quickly. We believe that if you bring passion and dedication to your job, there’s no telling what you could accomplish. \n",
       "\n",
       "Apple Ad Platforms is reinventing how Marketers and Advertisers plan, execute, operate, and measure Marketing Campaigns in a privacy first world. As a Senior PM, you will build consumer experiences by rapidly prototyping dynamic ad creatives, while respecting user-privacy preferences - all to deliver delight and happiness.\n",
       "\n",
       "Given the outstanding nature of building products at the intersection of business and consumer, this product lead is ideally someone who brings strong consumer product experience, along with business market understanding to drive multi-year strategy and execution. It also requires driving strategic alignment with product, engineering and cross-functional teams. The position requires a passion for 0 to 1 innovation, and strong execution chops to expand growth and adoption. 8+ years experience in product management and technical architecture of web applications and/or media products8+ years crafting mobile and web product experiences/examples through mobile wire frames and mock ups - concept through launch.Have successfully developed and launched advertising related products for audiences in the hundreds of millionsExperience leading design, feature breakdown and projects/products from inception to shipped softwarePassionate problem solver who is able to craft and build the best solutionsSignificant experience in running product experiments and leveraging product analyticsDo you see the big picture and have an eye for detail? Possessing the ability to showcase your ability to think strategically and execute tacticallyCommunication is key! Orchestrating initiatives that will transform the way advertising experiences work at Apple. Developing short and mid term vision for advertising products and services through partnership, working alongside stakeholders and engineers to identify critical paths and prioritizing requirements for execution. This role involves developing new product business cases, market and competitive analysis, product requirements documentation, and high-level release and go-to-market plans.\n",
       "\n",
       "If you’re excited by the idea of making a real impact, changing how the world looks at digital marketing and advertising, and joining a team where we pride ourselves in being one of the most diverse & inclusive companies in the world. We may just have your dream job!</td></tr><tr><td>63964</td><td>Apple</td><td>Sense Hardware Architecture Engineer - SPG</td><td>Technology</td><td>null</td><td>The Special Project Group at Apple is currently looking for an exceptional candidate for a sense hardware architecture engineer. As a successful applicant the you will be responsible for developing and evaluating sensing hardware architecture for autonomous systems via simulation, testing and analysis. You will work cross functionally with domains experts in sensor hardware, signal processing implementation, autonomy algorithms, systems engineering, and safety to perform system level trade-offs and provide robust assessments of architectural options. You must possess hands-on experience in sensor system modeling, data analysis, and software module development. A strong knowledge in physics of sensors, systems analysis, and algorithm development is also needed. Prior experience in full product lifecycle is highly desired. You must feel passionate about developing complex systems with multi-disciplinary teams and delivering within aggressive timelines. Experience developing system architecture, sensor systems analysis, modeling and testing.Exceptional HW/SW problem solving skills.Very good SW development skills in C/C++ and Python or MATLAB programing.Strong algorithm prototyping and development experience.Good understanding of optical and/or RF sensors and signal processing.Large scale data analysis and knowledge of statistical techniques.Must have experience in developing and shipping productsStrong communication, documentation and presentation skills.Self-motivated and driven. •Conduct assessments of optical sensing systems in order to meet an array of use cases\n",
       "•Perform simulations to generate system and module level requirements for cameras, optical depth sensors, and RF systems\n",
       "•Architect, develop and prototype practical and implementable algorithms and solutions \n",
       "•Lead brainstorming as needed with sensor systems engineer, module developers and data consumers (autonomous algorithms team).\n",
       "•Advise on the trades between different sensor hardware, software and autonomy algorithms. \n",
       "•Perform large scale data analysis and generate validation metrics - Deliver executive level presentations.</td></tr><tr><td>64121</td><td>Apple</td><td>Mechanical Design Engineer - Sensing Product Design</td><td>Technology</td><td>United States</td><td>The Sensing Product Design team is looking for a talented mechanical engineer to build great experiences and bring Apple products to life. We are the team developing many of the sensors that changed the way people interact with their technology. Touch redefined the phone and tablet, TouchID seamlessly secured them, and the heart rate monitor let you keep tabs on yourself. In this role, you will be responsible for specifying, developing, characterizing and validating touch sensing systems. You should be familiar with sensor technologies, along with related product integration and manufacturing technologies. 2+ years of hands-on experience designing mechanical components or systems for a production environment.Proficiency in 2D drafting, 3D conceptual modeling (NX preferred), tolerance analysis, and design trade-offs.Strong mechanical engineering analytical skills. Experience using FEA to drive design decisions is strongly preferredAbility to collect and use data to inform decisions and fuel debate in an open and intellectually honest manner.Clear and concise communication skills with ability to adapt written and verbal messaging for a variety of audiences.Cross-disciplinary approach to design; collaborates with a diverse team as well as external vendors to solve complex problems and achieve project goals.Demonstrated ability to drive failure analysis to determine root cause and develop effective corrective actions.Nice-to-have Skills:Consumer electronics knowledge is preferred; familiarity with capacitive sensing technology is a strong plusKnowledge of basic engineering materials (plastics and adhesives) and manufacturing processes, specifically in high-volume mass productionDetail oriented and capable of handling multiple assignments at onceCurious, willing to learn new skills, and share knowledgeWorking experience or academic training in:Sensors, electrical circuit design, thin film technologiesProgramming and scripting (MATLAB or Python preferred)Tolerance analysis and process capability analysisStatistical and regression analysis, response surface modeling (JMP or Minitab)Finite Element Analysis (FEA) of mechanical, thermal, static/dynamic environment (Ansys, Abaqus, Comsol)Nonlinear material characterization You will own the end-to-end design, development and validation of sensing technology into Apple’s portfolio of products. You will work with a talented multifunctional team to generate design concepts, and as the mechanical expert you will be responsible for engineering analysis and documentation for your piece of the project. You will be expected to: Identify design tradeoffs and risks to choose viable paths forward. Apply good experiment design and the scientific method to reduce design risk early. Ensure a ‘guarantee by design’ approach with tolerance studies and simulation to ensure designs meet requirements over manufacturing, process, and reliability conditions. Drive issue resolution to meet Apple’s high customer experience and industrial design standards. Experience with high volume mass production or consumer electronics are a plus. In the prototyping and validation phases, you will support external manufacturing vendors with process development and root cause analysis for issues found during testing. Support for our vendors includes international travel between 15% and 25%. At the end of the extraordinary team effort, your work will be in the hands of millions of people making a visible difference in their daily lives.</td></tr></tbody></table></div>"
      ]
     },
     "metadata": {
      "application/vnd.databricks.v1+output": {
       "addedWidgets": {},
       "aggData": [],
       "aggError": "",
       "aggOverflow": false,
       "aggSchema": [],
       "aggSeriesLimitReached": false,
       "aggType": "",
       "arguments": {},
       "columnCustomDisplayInfos": {},
       "data": [
        [
         62680,
         "Apple",
         "Optical Engineer - Camera Hardware",
         "Technology",
         "United States",
         "Why Apple? We live in a mobile and device driven world where knowledge of the physical world around us is needed. We rely on this knowledge to get around, to learn about our environment and to enable spectacular new features for custom applications. Apple is meeting those needs as robustly and as creatively as possible and is interested in people who want to help meet that commitment. The success we are striving will be the result of very skilled people working in an environment which cultivates creativity, partnership, and thinking of old problems in new ways. If that sounds like the kind of environment that you find intriguing, then let's talk. These elements come together to make Apple an amazing environment for motivated people to do the greatest work of their lives. You will become part of a team that sets the standard in fostering excellence, creativity and innovation. Will you help us design the next generation of revolutionary Apple products? The Camera Hardware Engineering group is responsible for all research, design, development, test, and qualification of camera hardware for Apple products. The team is looking for an Optical Engineer to work on advanced optical technology development. You will have 5+ years experience in the area of lens design, metrology and integration.Experience in lens design, tolerance analysisYou have done stray light analysisYou will know lens characterization methodology and instrumentationProficiency with ZEMAX, CODE V, FRED, LightTool, etc.Ability to perform comprehensive optical and image quality characterization of the lens and the camera moduleSupport metrology methodology for camera lens testing and develop appropriate test charts and methods for camera evaluationInterface with the assembly and packaging groups to support integration of camera lens into module Design new lenses, characterize and integrate into CMOS imager sensor based camera modules. Complete analysis of the optical element's influence on the image quality characteristics of the camera module. Work closely with lens supplier for prototype design, evaluation and MTF testing. Drive development of advanced metrology methods. Working knowledge of thin film physics and fabrication Track record of imaging related innovations Working knowledge of optomechanics Must be high energy, multi-tasker, resourceful problem solver, ability to work under pressure, take initiative"
        ],
        [
         62985,
         "Apple",
         "SoC Power Modeling Engineer",
         "Technology",
         "United States",
         "Do you want to utilize your engineering background to make big things happen? Can you influence, connect, get results and communicate effectively? Can you deliver on a predictable and dynamic schedule? Do you have a passion for crafting entirely new solutions? Do you love building without precedent? As part of our Digital Design Engineering group, you’ll take imaginative and revolutionary ideas and determine how to turn them into reality. You and your team will apply engineering fundamentals and start from scratch if needed, bringing visionary ideas to the real world. Your efforts will be groundbreaking, often literally. Join us, and you’ll help design the tools that allow us to bring customers experiences they’ve never before envisioned. You will be part of an exciting silicon design group that is responsible for designing state-of-the-art ASICs. We have an extraordinary opportunity for Power Modeling Engineers. In this highly visible role, you will be responsible for SOC power simulation and power modeling, SOC use case power analysis, and drive the future SOC power optimization. We are looking for applicants with experience in SOC power simulation and modeling, hardware power simulation and analysis flow.Familiarity with ASIC power analysis and optimization.Familiarity with Verilog and System Verilog.Familiarity with script writing in Python, Perl or Tcl.Experience with SOC power modeling, low power design and power optimization.Familiarity with power impact at architecture, logic design, and circuit levels.Familiarity with multimedia data processing is a plus.Familiarity with SOC design flow and methodology.Familiarity with power simulation and power optimization.Silicon power measurement experience is a plus.Strong communication skills are a pre-requisite since you will collaborate with a lot of different groups. Imagine yourself at the center of our SOC design effort, collaborating with all fields, playing a strategic role of getting functional products to millions of customers quickly. You will have the opportunity to integrate and come-up with new ideas, as well as work with a team of talented engineers. The main responsibility of this role is to drive the SOC power modeling and optimization for very power efficient products: - Work with architects to resolve interesting use-cases to simulate. - Provide power projection for the future projects based on analysis. - Create test cases within the design verification team’s environment. - Work with logic teams to determine the correct functionality or enhance functionality for power reduction. - Work with Architecture and design team to model the SOC power for use cases. - Develop IP power model on new architecture design, providing power data for performance/power/area trade-offs. - Work with multi-functional teams on improving power modeling. - Understand interactions of the product at the software and system level that impact power. Apple is an Equal Opportunity Employer that is committed to inclusion and diversity. We also take affirmative action to offer employment and advancement opportunities to all applicants, including minorities, women, protected veterans, and individuals with disabilities. Apple will not discriminate or retaliate against applicants who inquire about, disclose, or discuss their compensation or that of other applicants."
        ],
        [
         63087,
         "Apple",
         "Embedded Software QA Engineer",
         "Technology",
         "United States",
         "The Technology development group at Apple is looking for an exceptional Software QA engineer to work along side the Engineering development team to drive Software Quality and integration. As a member of our fast-paced group, you will have a unique and rewarding opportunity to work on cutting edge embedded devices and low level firmware . Our environment fosters product innovation, rapid product iteration, and an environment that values initiative. Quality is an important aspect of our products, and as an Embedded SW QA Engineer you will have a significant impact on helping to deliver functional and stable products to millions of customers in a rapidly changing environment. You will bring your upbeat personality with excellent communication and interpersonal skills, attention to detail, and real passion for a positive user experience . Experience with hardware and/or software development lifecycle processes.2+ years of QA experience, preferably on consumer hardware/software products.Knowledge of C and modern scripting or compiled languages (Python, JavaScript, Ruby, Objective-C, Swift, C++, etc.)Knowledge of Unix and Unix shell scripting.Ability to communicate technical concepts to a non-technical audience.Deep understanding of SQA methodologies & practices.Ability to solve hard problems with creative and sustainable solutions.Be detail oriented and strive for the best product for our customers. - Define, implement, and execute tests focused on embedded devices and low level firmware. - Isolate and report defects effectively quantifying customer impact, and verify fixes through regression testing and other test methodologies. - Be a vocal proponent for quality internally and externally."
        ],
        [
         63106,
         "Apple",
         "Motion Sensing Systems Engineer- Pressure Sensing",
         "Technology",
         "United States",
         "You will play a key role in specifying, developing, characterizing, and validating motion sensing systems. You should be familiar with technologies such as MEMS pressure sensors and/or waterproof sensor packages. You should also be familiar with product integration, and manufacturing technologies related to such sensors. The Motion Sensing Hardware team features a collaborative environment with creative, smart people and cutting edge technologies. This team integrates MEMS, magnetic and capacitive sensors across a variety of Apple products such as iPhones, iPads, and MacBooks. Engineering excellence and thoroughness are expected and encouraged. Invention and patent creation are expected and supported. Pushing the envelope to design and ship innovative products with best-in-class technologies and user experiences is the main goal of this sensing technology team at Apple. 2+ years of hands-on experience and proven track record in sensing system hardware engineering.Experience in architecture, design, characterization, and validation of sensing systems that includes theory of operation, signal processing, fabrication, packaging and design trade-offs.Fundamental knowledge and experience in physics, mechanical, electrical, and material science engineering, and manufacturing technology relevant for sensor fabrication.Proficient in modeling, data collection, data analysis, and statistical analysis tools (e.g. Python, JMP).Excellent written and verbal communication skills and solid teamwork and leadership skills.Willingness and ability to travel are required Core Responsibilities: Diagnose engineering issues with true scientific method driving to definitive root cause. Identify, create, and document new sensing system metrics that deliver performance and matter to customer perception. Develop analytical models for new technology and features. Verify and improve models with experiments and data collection. Work cross-functionally to identify and specify critical performance parameters and error sensitivities. Develop measurement methods and equipment that are repeatable, reproducible, and automated as appropriate to enable thorough validation coverage of sensors on tight development schedules. Support engineering build activities with performance validation measurements, yield optimization, and failure analysis coordination. Performance matching across multiple sources for sensors. Work with suppliers to proactively identify and resolve issues of matching to our specs. Analyze trade-offs among performance, manufacturability, size, schedule and cost. Travel to supplier facilities and manufacturing sites for production validation and issues resolution. Create and help improve engineering requirements specifications for sensors. Prepare and deliver presentations to clearly communicate technical status, risks and mitigation strategies for ongoing sensing system programs."
        ],
        [
         63155,
         "Apple",
         "Cellular Layer1 Common Firmware Engineer",
         "Technology",
         "United States",
         "Do you have a passion for invention and self-challenge? Do you thrive on pushing the limits of what’s considered feasible? As part of a world class modem team, you’ll craft sophisticated leading-edge embedded firmware that deliver more performance in our products than ever before. You’ll work across disciplines to transform improved hardware elements into a single, integrated design. Join us, and you’ll help us innovate new cellular technologies that continually outperform the previous iterations. By collaborating with other product development groups across Apple, you’ll push the industry boundaries of what wireless systems can do and improve the product experience for our customers across the world. Do you want to have an impact on every single Apple product? As a Cellular Layer 1 Common Firmware Engineer on this team, you will be at the center of the 5G/4G/multimode cellular firmware effort within a silicon design and firmware development group responsible for designing and productizing state-of-the-art cellular SoCs. This position requires someone comfortable will all aspects of embedded software development, that thrives in a dynamic cross-functional organization, is not afraid to debate ideas openly, and is flexible enough to pivot on constantly evolving requirements. Deep understanding of software engineering principles, and core computer science fundamentals.Highly competent with C and C++ and assembly programming, solid understanding of compilers, build and source code control tools.Significant experience with embedded real-time programming for low latency and memory constrained applicationsSignificant experience and solid understanding and programming of cache-friendly, data-oriented objects and handles.Significant experience with Real Time Operating Systems (RTOS) applications, multi-core, multi-threaded and concurrent programming.Experience with ISS, virtual platforms, silicon prototyping and emulation systems.Experience in core BSP implementation.Experience in scripting languages like Perl and Python.Proficiency in debugging embedded software systems.Familiarity with ETM, ETB, JTAG, HW breakpoints, Lauterbach, TRACE32 and any other trace and debug SW/tools.Understanding of 5G and 4G 3GPP standards, or similar Wireless standards(2G,3G, WiFi) and competent knowledge on Physical Layer control is a plus. • Specify, design, and implement a multi-mode L1 firmware architecture of a state-of-the-art mobile wireless communications system. • Implement and/or customize CPU core infrastructure and drivers. Example areas include: o Symmetric Multi Processing (SMP) RTOS configuration. o Asymmetric Multi Processing (AMP) RTOS configuration. o Interrupt controller configurations. o MMU/MPU configuration. o Boot-Loader configurations. o Cache Management. o RTOS thread management. o DMA and timer Drivers. o Power and clock drivers. • Model HW blocks in Virtual Platforms (VP). o Integrate CPU ISS into VP. o Add device model like DMAs, timers etc. o Model 4g/5g protocol stack blocks. • Design test frameworks. o Unit test frameworks. o Integration test frameworks. o Integrate code coverage, debugger and profiler tools. o Automation scripts to run and analyze the results. o Adapt test framework to work on HW, FPGA and virtual platforms. • Trace and Debug o Working with JTAGs, HW breakpoints, conditional breakpoints. o PC tracing using ETB. o Implement efficient on chip time stamped trace logs. o Implement performance monitor traces. o Implement SW for log packet transfer. • Work with silicon designers to define processor, bus, and memory subsystems. • Evaluate and implement leading edge tools for build, formal verification and test. • Define methodologies and best practices."
        ],
        [
         63271,
         "Apple",
         "RF Cellular Transceiver SoC Validation Engineer",
         "Technology",
         null,
         "Would you like to join Apple’s growing cellular wireless design team? Do you thrive on pushing the limits of integration for highly complex RF Cellular SOCs in advanced technology nodes? Our team is responsible for all aspects of cellular transceivers silicon development with a particular emphasis on highly integrated and efficient designs and technologies that transform the user experience at the product level. \n\nWe invite you to join us if you are looking for a challenging Validation Engineering position to work on RF cellular transceiver SoCs! You will work with cellular RFIC circuit designers and system integration engineers to validate major RF cellular system blocks via focused block-level tests and also transceiver level testing for coexistence within the radio and with other radios. Proven verification skills in problem-solving, constrained random testing, and debugging.Extensive experience with bringing up and testing RF cellular SoC, performing system integration, characterization and optimization.Experience in end-to-end RF measurements, as well as building block characterization like LNAs, down-converters, up-converters, BBFs, Driver amplifiers, power amplifiers, PLLs, VCOs, high-performance ADCs, and DACs.The ability to collaborate with different teams (IC Design, RF Systems, Firmware, and HW board teams) within Apple.Good understanding of board schematics, experience with HW Silicon validation boards schematic reviews, and coming up with HW board requirements for doing SOC validation.Experience with digital interfaces SMB/SPMI/QSPI/SPI/UART/I2C/JTAG.Bench Automation experience and proficiency with measurement automation tools and scripting languages, such as Python, Matlab, C++ scripts.Experience with lab equipment such as RF spectrum analyzers, network analyzers, Vector analyzers, RF signal generators, phase noise analyzers, oscilloscopes, DMM’s, etc.Experience with MAC or PHY Verification would be useful.Please be ready to work with ATE engineers and on mass production integrated circuits. As an RF transceiver SOC validation engineer, you will engage in the key task of designing, developing, and testing that cellular SoCs implement designs to their specifications. This work includes reading and understanding design specifications and schematics and using highly specialized test platforms to validate proper operations of the RF SOC. Tasks will include working with scripting languages, including Python and Tcl, in conjunction with embedded FW to confirm functionality and evaluating the performance of RF Cellular SoCs. Apple is an equal opportunity employer that is committed to inclusion and diversity. We also take affirmative action to offer employment and advancement opportunities to all applicants, including minorities, women, protected veterans, and individuals with disabilities. Apple will not discriminate or retaliate against applicants who inquire about, disclose, or discuss their compensation or that of other applicants.We will ensure that individuals with disabilities are provided reasonable accommodation to participate in the job application or interview process, to perform essential job functions, and to receive other benefits and privileges of employment. Please contact us to request accommodation."
        ],
        [
         63574,
         "Apple",
         "Wireless Platform Integration Architect – Platform Architecture",
         "Technology",
         null,
         "Imagine what you could do here. At Apple, new ideas have a way of becoming extraordinary products, services, and customer experiences very quickly. Bring passion and dedication to your job and there's no telling what you could accomplish! Dynamic, smart people and inspiring, innovative technologies are the norms here. The people who work here have reinvented entire industries with all Apple Hardware products. The same passion for innovation that goes into our products also applies to our practices strengthening our commitment to leave the world better than we found it. \n\nJoin us to help deliver the next groundbreaking Apple product. Do you love working on challenges that no one has solved yet? As a member of our dynamic group, you will have the unique and rewarding opportunity to craft upcoming products that will delight and inspire millions of Apple's customers every single day. Join our Wireless Architecture team!\n\nMobile internet access through cellular technologies has made always-connected devices ubiquitous. We keep pushing the boundaries and bring new experiences to our customers. We continuously try to understand and find out which new cellular features will benefit our customers' experience. We work cross-functionally to identify new features and assess their impact as well as their customer added value.\n\nIn this role you will a key member to help the integration of wireless technologies in our future devices. 10+ years of relevant experienceWe are counting on your expertise with cellular chipset architectures (such as details of baseband processing systems, RF transceivers and power management units), including aspects of system integration such as high-bandwidth host interfaces, platform operational modes, RF front-end control and power managementUnderstanding of wireless performance metrics and power optimization approachesDemonstrated ability to effectively lead cross-functional teams and proficiency in leading technical initiatives across a cross functional organizationExcellent communication and documentation skills and ability to develop detailed system architecture and design documentation. In this role you will be a key member of the Platform Architecture team acting as the Cellular Systems Architect in product development projects. \n- Develop & document the cellular product architecture\n- Analyze, model, and track cellular HW requirements & performance targets in product projects\n- Drive cross-functional teams to ensure consistency of chipset architecture with modem system requirements, such as RF performance, system control architecture, HW / SW interface architectures and longer term technology roadmaps \n- Drive cross-functional teams throughout the product development cycle on resolving system level issues."
        ],
        [
         63645,
         "Apple",
         "Senior Product Manager, Customer Experience - Ad Platforms",
         "Technology",
         null,
         "Imagine what you could do here. At Apple, excellent ideas have a way of becoming extraordinary products, services, and customer experiences very quickly. We believe that if you bring passion and dedication to your job, there’s no telling what you could accomplish. \n\nApple Ad Platforms is reinventing how Marketers and Advertisers plan, execute, operate, and measure Marketing Campaigns in a privacy first world. As a Senior PM, you will build consumer experiences by rapidly prototyping dynamic ad creatives, while respecting user-privacy preferences - all to deliver delight and happiness.\n\nGiven the outstanding nature of building products at the intersection of business and consumer, this product lead is ideally someone who brings strong consumer product experience, along with business market understanding to drive multi-year strategy and execution. It also requires driving strategic alignment with product, engineering and cross-functional teams. The position requires a passion for 0 to 1 innovation, and strong execution chops to expand growth and adoption. 8+ years experience in product management and technical architecture of web applications and/or media products8+ years crafting mobile and web product experiences/examples through mobile wire frames and mock ups - concept through launch.Have successfully developed and launched advertising related products for audiences in the hundreds of millionsExperience leading design, feature breakdown and projects/products from inception to shipped softwarePassionate problem solver who is able to craft and build the best solutionsSignificant experience in running product experiments and leveraging product analyticsDo you see the big picture and have an eye for detail? Possessing the ability to showcase your ability to think strategically and execute tacticallyCommunication is key! Orchestrating initiatives that will transform the way advertising experiences work at Apple. Developing short and mid term vision for advertising products and services through partnership, working alongside stakeholders and engineers to identify critical paths and prioritizing requirements for execution. This role involves developing new product business cases, market and competitive analysis, product requirements documentation, and high-level release and go-to-market plans.\n\nIf you’re excited by the idea of making a real impact, changing how the world looks at digital marketing and advertising, and joining a team where we pride ourselves in being one of the most diverse & inclusive companies in the world. We may just have your dream job!"
        ],
        [
         63964,
         "Apple",
         "Sense Hardware Architecture Engineer - SPG",
         "Technology",
         null,
         "The Special Project Group at Apple is currently looking for an exceptional candidate for a sense hardware architecture engineer. As a successful applicant the you will be responsible for developing and evaluating sensing hardware architecture for autonomous systems via simulation, testing and analysis. You will work cross functionally with domains experts in sensor hardware, signal processing implementation, autonomy algorithms, systems engineering, and safety to perform system level trade-offs and provide robust assessments of architectural options. You must possess hands-on experience in sensor system modeling, data analysis, and software module development. A strong knowledge in physics of sensors, systems analysis, and algorithm development is also needed. Prior experience in full product lifecycle is highly desired. You must feel passionate about developing complex systems with multi-disciplinary teams and delivering within aggressive timelines. Experience developing system architecture, sensor systems analysis, modeling and testing.Exceptional HW/SW problem solving skills.Very good SW development skills in C/C++ and Python or MATLAB programing.Strong algorithm prototyping and development experience.Good understanding of optical and/or RF sensors and signal processing.Large scale data analysis and knowledge of statistical techniques.Must have experience in developing and shipping productsStrong communication, documentation and presentation skills.Self-motivated and driven. •Conduct assessments of optical sensing systems in order to meet an array of use cases\n•Perform simulations to generate system and module level requirements for cameras, optical depth sensors, and RF systems\n•Architect, develop and prototype practical and implementable algorithms and solutions \n•Lead brainstorming as needed with sensor systems engineer, module developers and data consumers (autonomous algorithms team).\n•Advise on the trades between different sensor hardware, software and autonomy algorithms. \n•Perform large scale data analysis and generate validation metrics - Deliver executive level presentations."
        ],
        [
         64121,
         "Apple",
         "Mechanical Design Engineer - Sensing Product Design",
         "Technology",
         "United States",
         "The Sensing Product Design team is looking for a talented mechanical engineer to build great experiences and bring Apple products to life. We are the team developing many of the sensors that changed the way people interact with their technology. Touch redefined the phone and tablet, TouchID seamlessly secured them, and the heart rate monitor let you keep tabs on yourself. In this role, you will be responsible for specifying, developing, characterizing and validating touch sensing systems. You should be familiar with sensor technologies, along with related product integration and manufacturing technologies. 2+ years of hands-on experience designing mechanical components or systems for a production environment.Proficiency in 2D drafting, 3D conceptual modeling (NX preferred), tolerance analysis, and design trade-offs.Strong mechanical engineering analytical skills. Experience using FEA to drive design decisions is strongly preferredAbility to collect and use data to inform decisions and fuel debate in an open and intellectually honest manner.Clear and concise communication skills with ability to adapt written and verbal messaging for a variety of audiences.Cross-disciplinary approach to design; collaborates with a diverse team as well as external vendors to solve complex problems and achieve project goals.Demonstrated ability to drive failure analysis to determine root cause and develop effective corrective actions.Nice-to-have Skills:Consumer electronics knowledge is preferred; familiarity with capacitive sensing technology is a strong plusKnowledge of basic engineering materials (plastics and adhesives) and manufacturing processes, specifically in high-volume mass productionDetail oriented and capable of handling multiple assignments at onceCurious, willing to learn new skills, and share knowledgeWorking experience or academic training in:Sensors, electrical circuit design, thin film technologiesProgramming and scripting (MATLAB or Python preferred)Tolerance analysis and process capability analysisStatistical and regression analysis, response surface modeling (JMP or Minitab)Finite Element Analysis (FEA) of mechanical, thermal, static/dynamic environment (Ansys, Abaqus, Comsol)Nonlinear material characterization You will own the end-to-end design, development and validation of sensing technology into Apple’s portfolio of products. You will work with a talented multifunctional team to generate design concepts, and as the mechanical expert you will be responsible for engineering analysis and documentation for your piece of the project. You will be expected to: Identify design tradeoffs and risks to choose viable paths forward. Apply good experiment design and the scientific method to reduce design risk early. Ensure a ‘guarantee by design’ approach with tolerance studies and simulation to ensure designs meet requirements over manufacturing, process, and reliability conditions. Drive issue resolution to meet Apple’s high customer experience and industrial design standards. Experience with high volume mass production or consumer electronics are a plus. In the prototyping and validation phases, you will support external manufacturing vendors with process development and root cause analysis for issues found during testing. Support for our vendors includes international travel between 15% and 25%. At the end of the extraordinary team effort, your work will be in the hands of millions of people making a visible difference in their daily lives."
        ]
       ],
       "datasetInfos": [],
       "dbfsResultPath": null,
       "isJsonSchema": true,
       "metadata": {
        "dataframeName": "_sqldf",
        "executionCount": 1
       },
       "overflow": false,
       "plotOptions": {
        "customPlotOptions": {},
        "displayType": "table",
        "pivotAggregation": null,
        "pivotColumns": null,
        "xColumns": null,
        "yColumns": null
       },
       "removedWidgets": [],
       "schema": [
        {
         "metadata": "{\"comment\":\"An ID to uniquely identify each crawled job posting\",\"scale\":0}",
         "name": "id",
         "type": "\"integer\""
        },
        {
         "metadata": "{\"comment\":\"The company name which the job posting is for\",\"scale\":0}",
         "name": "company",
         "type": "\"string\""
        },
        {
         "metadata": "{\"comment\":\"The title for the role in the original language of the job posting. This is the title as extracted from the posting with no further processing of the title tag\",\"scale\":0}",
         "name": "title",
         "type": "\"string\""
        },
        {
         "metadata": "{\"comment\":\"The industry as extracted from the job posting\",\"scale\":0}",
         "name": "industry",
         "type": "\"string\""
        },
        {
         "metadata": "{\"comment\":\"The country where the job/role will be filled as extracted by the crawler\",\"scale\":0}",
         "name": "country",
         "type": "\"string\""
        },
        {
         "metadata": "{\"comment\":\"The job description after translation and HTML removal processing\"}",
         "name": "job_description",
         "type": "\"string\""
        }
       ],
       "type": "table"
      }
     },
     "output_type": "display_data"
    }
   ],
   "source": [
    "%sql\n",
    "\n",
    "-- Step 1: Filter the primary table first\n",
    "WITH filtered_jobs AS (\n",
    "  SELECT\n",
    "    id,\n",
    "    company_name AS company,\n",
    "    title,\n",
    "    industry_name AS industry,\n",
    "    country\n",
    "  FROM hive_metastore.timd_bronze.o2adl_crawled_job\n",
    "),\n",
    "-- Step 2: Perform the join with the filtered data\n",
    "joined_jobs AS (\n",
    "  SELECT\n",
    "    j.id,\n",
    "    j.company,\n",
    "    j.title,\n",
    "    j.industry,\n",
    "    j.country,\n",
    "    pjd.cleaned_job_description AS job_description  \n",
    "  FROM filtered_jobs j\n",
    "  LEFT JOIN hive_metastore.timd_bronze.o2adl_crawled_job_description jd\n",
    "    ON jd.id = j.id\n",
    "  LEFT JOIN hive_metastore.timd_bronze.o2adl_preprocessed_job_description pjd\n",
    "    ON pjd.id = j.id\n",
    "  WHERE\n",
    "    pjd.cleaned_job_description IS NOT NULL\n",
    "    AND pjd.cleaned_job_description !=''\n",
    "    AND jd.job_description_language = 'en'\n",
    ")\n",
    "\n",
    "-- Step 3: Final selection with a limit\n",
    "SELECT\n",
    "  id,\n",
    "  company,\n",
    "  title,\n",
    "  industry,\n",
    "  country,\n",
    "  job_description\n",
    "FROM joined_jobs\n",
    "\n",
    "-- Limit set just for illustrative purposes\n",
    "LIMIT 10\n",
    ";"
   ]
  },
  {
   "cell_type": "code",
   "execution_count": 0,
   "metadata": {
    "application/vnd.databricks.v1+cell": {
     "cellMetadata": {
      "byteLimit": 2048000,
      "rowLimit": 10000
     },
     "inputWidgets": {},
     "nuid": "9c36b8fc-3fac-4be9-a053-0f52a9deef4e",
     "showTitle": false,
     "tableResultSettingsMap": {},
     "title": ""
    }
   },
   "outputs": [],
   "source": [
    "# Trigger computation to avoid lazy evaluation delays\n",
    "_sqldf.count()\n",
    "\n",
    "# Convert to Pandas DataFrame\n",
    "df = _sqldf.toPandas()"
   ]
  },
  {
   "cell_type": "code",
   "execution_count": 0,
   "metadata": {
    "application/vnd.databricks.v1+cell": {
     "cellMetadata": {
      "byteLimit": 2048000,
      "rowLimit": 10000
     },
     "inputWidgets": {},
     "nuid": "c1228057-7c0b-46da-be2a-d09f82986ab9",
     "showTitle": false,
     "tableResultSettingsMap": {},
     "title": ""
    }
   },
   "outputs": [],
   "source": [
    "df.to_csv('/git_test.csv', index=False)"
   ]
  }
 ],
 "metadata": {
  "application/vnd.databricks.v1+notebook": {
   "computePreferences": null,
   "dashboards": [],
   "environmentMetadata": null,
   "language": "python",
   "notebookMetadata": {
    "mostRecentlyExecutedCommandWithImplicitDF": {
     "commandId": 3393119559085171,
     "dataframes": [
      "_sqldf"
     ]
    },
    "pythonIndentUnit": 4
   },
   "notebookName": "(git) (PROD) Others - Sample SQL to extract JD text data",
   "widgets": {}
  },
  "language_info": {
   "name": "python"
  }
 },
 "nbformat": 4,
 "nbformat_minor": 0
}
