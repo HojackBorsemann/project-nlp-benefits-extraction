{
 "cells": [
  {
   "cell_type": "markdown",
   "metadata": {
    "application/vnd.databricks.v1+cell": {
     "cellMetadata": {
      "byteLimit": 2048000,
      "rowLimit": 10000
     },
     "inputWidgets": {},
     "nuid": "03194487-535d-4013-95ff-6366a7a149a8",
     "showTitle": false,
     "tableResultSettingsMap": {},
     "title": ""
    }
   },
   "source": [
    "## Setup notebook"
   ]
  },
  {
   "cell_type": "code",
   "execution_count": 0,
   "metadata": {
    "application/vnd.databricks.v1+cell": {
     "cellMetadata": {
      "byteLimit": 2048000,
      "rowLimit": 10000
     },
     "inputWidgets": {},
     "nuid": "7b175b95-d1e5-454b-bb71-2d15d122eb7a",
     "showTitle": false,
     "tableResultSettingsMap": {},
     "title": ""
    }
   },
   "outputs": [],
   "source": [
    "import os\n",
    "\n",
    "# Retrieve API keys from environment variables\n",
    "prodigy_key = os.getenv(\"MY_PRODIGY_KEY\")\n",
    "if not prodigy_key:\n",
    "    raise ValueError(\"Environment variable MY_PRODIGY_KEY is not set.\")"
   ]
  },
  {
   "cell_type": "code",
   "execution_count": 0,
   "metadata": {
    "application/vnd.databricks.v1+cell": {
     "cellMetadata": {
      "byteLimit": 2048000,
      "rowLimit": 10000
     },
     "inputWidgets": {},
     "nuid": "20a012ca-a3a7-4512-9d48-e0bcdc3fbcf4",
     "showTitle": false,
     "tableResultSettingsMap": {},
     "title": ""
    },
    "jupyter": {
     "outputs_hidden": true
    }
   },
   "outputs": [
   ],
   "source": [
    "# Install library and versions below\n",
    "%pip install spacy==3.7.5 spacy-transformers==1.3.5 spacy-loggers==1.0.5 mlflow==2.20.1 > /dev/null 2>&1\n",
    "%pip install prodigy -f https://{prodigy_key}@download.prodi.gy/\n",
    "dbutils.library.restartPython()"
   ]
  },
  {
   "cell_type": "code",
   "execution_count": 0,
   "metadata": {
    "application/vnd.databricks.v1+cell": {
     "cellMetadata": {
      "byteLimit": 2048000,
      "rowLimit": 10000
     },
     "inputWidgets": {},
     "nuid": "b600d557-6c42-4096-b939-29f1b0682e57",
     "showTitle": false,
     "tableResultSettingsMap": {},
     "title": ""
    }
   },
   "outputs": [],
   "source": [
    "# Core Utilities\n",
    "import os\n",
    "import sys\n",
    "import logging\n",
    "import ast\n",
    "from pathlib import Path\n",
    "import warnings\n",
    "\n",
    "# Data Handling\n",
    "import json\n",
    "import pandas as pd\n",
    "\n",
    "# MLflow Components\n",
    "import mlflow\n",
    "import mlflow.spacy\n",
    "\n",
    "# SpaCy / NLP Components\n",
    "import spacy\n",
    "from spacy.language import Language\n",
    "from spacy.training import Example\n",
    "from spacy.training.initialize import init_nlp\n",
    "from spacy.training.loop import train\n",
    "from spacy.util import load_config\n",
    "from spacy.cli.train import train"
   ]
  },
  {
   "cell_type": "markdown",
   "metadata": {
    "application/vnd.databricks.v1+cell": {
     "cellMetadata": {
      "byteLimit": 2048000,
      "rowLimit": 10000
     },
     "inputWidgets": {},
     "nuid": "4ddf8f1f-7f9f-4872-8066-22d8fdc37ce9",
     "showTitle": false,
     "tableResultSettingsMap": {},
     "title": ""
    }
   },
   "source": [
    "## Train a NER model to detect benefits in job descriptions\n",
    "1. Create a ground-truth dataset to train model, using already annotated data\n",
    "2. Prepare training materials i.e. transform data into format required for spaCy model training\n",
    "3. Train the model, logging in MLFlow for good documentation"
   ]
  },
  {
   "cell_type": "markdown",
   "metadata": {
    "application/vnd.databricks.v1+cell": {
     "cellMetadata": {
      "byteLimit": 2048000,
      "rowLimit": 10000
     },
     "inputWidgets": {},
     "nuid": "52b93d49-b9b8-4a66-a491-96f277a45650",
     "showTitle": false,
     "tableResultSettingsMap": {},
     "title": ""
    }
   },
   "source": [
    "### Create the 'ground-truth' dataset for this model by combining. Usually do this by combining the previous model's ground-truth with the additional data you've annotated"
   ]
  },
  {
   "cell_type": "code",
   "execution_count": 0,
   "metadata": {
    "application/vnd.databricks.v1+cell": {
     "cellMetadata": {
      "byteLimit": 2048000,
      "rowLimit": 10000
     },
     "inputWidgets": {},
     "nuid": "29113fca-d96f-4307-b163-c5a60d029a24",
     "showTitle": false,
     "tableResultSettingsMap": {},
     "title": ""
    }
   },
   "outputs": [],
   "source": [
    "old_ground_truth = \"/v5.2_fixing_dataset.jsonl\"\n",
    "new_annotated_data = \"/v5.5_ground_truth.jsonl\"\n",
    "\n",
    "df_old_ground_truth = pd.read_json(old_ground_truth, lines=True)\n",
    "df_new_annotated_data = pd.read_json(new_annotated_data, lines=True)"
   ]
  },
  {
   "cell_type": "markdown",
   "metadata": {
    "application/vnd.databricks.v1+cell": {
     "cellMetadata": {
      "byteLimit": 2048000,
      "rowLimit": 10000
     },
     "inputWidgets": {},
     "nuid": "81714b57-caeb-4d7c-9d94-e6b81efce69f",
     "showTitle": false,
     "tableResultSettingsMap": {},
     "title": ""
    }
   },
   "source": [
    "## Some checks for data before training model"
   ]
  },
  {
   "cell_type": "markdown",
   "metadata": {
    "application/vnd.databricks.v1+cell": {
     "cellMetadata": {
      "byteLimit": 2048000,
      "rowLimit": 10000
     },
     "inputWidgets": {},
     "nuid": "ca4bd763-cd0e-4cd5-af0c-17c2dd6a363e",
     "showTitle": false,
     "tableResultSettingsMap": {},
     "title": ""
    }
   },
   "source": [
    "### 1. Drop those annotated examples that're 'reject' or 'skip' and where 'spans' are null as they wont be used to train the model"
   ]
  },
  {
   "cell_type": "code",
   "execution_count": 0,
   "metadata": {
    "application/vnd.databricks.v1+cell": {
     "cellMetadata": {
      "byteLimit": 2048000,
      "rowLimit": 10000
     },
     "inputWidgets": {},
     "nuid": "eca3fbde-7327-4310-ae14-ccafe845e5af",
     "showTitle": false,
     "tableResultSettingsMap": {},
     "title": ""
    }
   },
   "outputs": [
    {
     "output_type": "stream",
     "name": "stdout",
     "output_type": "stream",
     "text": [
      "'df_old_ground_truth': No rows to drop. All 'answer' values are 'accept' and 'spans' are non-null.\n'df_new_annotated_data': No rows to drop. All 'answer' values are 'accept' and 'spans' are non-null.\n"
     ]
    }
   ],
   "source": [
    "def drop_non_accept_answers(df, df_name='DataFrame'):\n",
    "    # Define conditions for rows to drop\n",
    "    condition_non_accept = df['answer'] != 'accept'\n",
    "    condition_spans_null = df['spans'].isnull()\n",
    "    \n",
    "    # Combine conditions using OR logic\n",
    "    combined_condition = condition_non_accept | condition_spans_null\n",
    "    \n",
    "    # Identify rows that meet either condition\n",
    "    rows_to_drop = df[combined_condition]\n",
    "    count_to_drop = rows_to_drop.shape[0]\n",
    "    \n",
    "    if count_to_drop > 0:\n",
    "        # Create a filtered DataFrame with the rows to drop\n",
    "        filtered_df = rows_to_drop.copy()\n",
    "        \n",
    "        # Dynamically create a new variable named 'filtered_df_{df_name}'\n",
    "        # Ensure df_name is a valid identifier to avoid syntax issues\n",
    "        valid_df_name = ''.join(char if char.isalnum() or char == '_' else '_' for char in df_name)\n",
    "        filtered_df_var_name = f\"filtered_df_{valid_df_name}\"\n",
    "        globals()[filtered_df_var_name] = filtered_df\n",
    "\n",
    "        # Drop the identified rows from the original DataFrame\n",
    "        df.drop(rows_to_drop.index, inplace=True)\n",
    "        print(f\"'{df_name}': Dropped {count_to_drop} row(s) where 'answer' is not 'accept' or 'spans' is null.\")\n",
    "        print(f\"Created '{filtered_df_var_name}' containing the dropped rows.\")\n",
    "        \n",
    "        return filtered_df\n",
    "    else:\n",
    "        print(f\"'{df_name}': No rows to drop. All 'answer' values are 'accept' and 'spans' are non-null.\")\n",
    "        return None\n",
    "    \n",
    "# Apply the function to df_old_ground_truth\n",
    "filtered_df_df_old_ground_truth = drop_non_accept_answers(df_old_ground_truth, df_name='df_old_ground_truth')\n",
    "\n",
    "# Apply the function to df_new_annotated_data\n",
    "filtered_df_df_new_annotated_data = drop_non_accept_answers(df_new_annotated_data, df_name='df_new_annotated_data')"
   ]
  },
  {
   "cell_type": "markdown",
   "metadata": {
    "application/vnd.databricks.v1+cell": {
     "cellMetadata": {
      "byteLimit": 2048000,
      "rowLimit": 10000
     },
     "inputWidgets": {},
     "nuid": "43238a21-d39f-411a-ab32-076d75a62537",
     "showTitle": false,
     "tableResultSettingsMap": {},
     "title": ""
    }
   },
   "source": [
    "### 2. Final check to make sure columns are all same and in consistent format"
   ]
  },
  {
   "cell_type": "code",
   "execution_count": 0,
   "metadata": {
    "application/vnd.databricks.v1+cell": {
     "cellMetadata": {
      "byteLimit": 2048000,
      "rowLimit": 10000
     },
     "inputWidgets": {},
     "nuid": "5f921a54-0f75-41f7-aad1-9e53cb659f04",
     "showTitle": false,
     "tableResultSettingsMap": {},
     "title": ""
    }
   },
   "outputs": [
    {
     "output_type": "stream",
     "name": "stdout",
     "output_type": "stream",
     "text": [
      "DataFrames have different column names or different column orders.\n\nColumns only in df_old_ground_truth:\n - len\n - id\n - JobDescriptioninHTML\n - CompanyName\n - country\n - title\n\nNo extra columns in df_new_annotated_data.\n\nCommon columns are in the same order.\n"
     ]
    }
   ],
   "source": [
    "def compare_and_clean_columns(df1, df2, df1_name='df1', df2_name='df2'):\n",
    "    columns_df1 = set(df1.columns)\n",
    "    columns_df2 = set(df2.columns)\n",
    "\n",
    "    # Check if columns are the same\n",
    "    if list(df1.columns) == list(df2.columns):\n",
    "        print(\"Both DataFrames have the same column names in the same order.\")\n",
    "    else:\n",
    "        print(\"DataFrames have different column names or different column orders.\")\n",
    "        \n",
    "        # Identify extra and missing columns\n",
    "        extra_in_df1 = columns_df1 - columns_df2\n",
    "        extra_in_df2 = columns_df2 - columns_df1\n",
    "        common_columns = columns_df1 & columns_df2\n",
    "\n",
    "        if extra_in_df1:\n",
    "            print(f\"\\nColumns only in {df1_name}:\")\n",
    "            for col in extra_in_df1:\n",
    "                print(f\" - {col}\")\n",
    "        else:\n",
    "            print(f\"\\nNo extra columns in {df1_name}.\")\n",
    "\n",
    "        if extra_in_df2:\n",
    "            print(f\"\\nColumns only in {df2_name}:\")\n",
    "            for col in extra_in_df2:\n",
    "                print(f\" - {col}\")\n",
    "        else:\n",
    "            print(f\"\\nNo extra columns in {df2_name}.\")\n",
    "\n",
    "        # Check for column order differences\n",
    "        if common_columns:\n",
    "            ordered_common_df1 = [col for col in df1.columns if col in common_columns]\n",
    "            ordered_common_df2 = [col for col in df2.columns if col in common_columns]\n",
    "            if ordered_common_df1 != ordered_common_df2:\n",
    "                print(\"\\nCommon columns are in different orders:\")\n",
    "                print(f\" - {df1_name} order: {ordered_common_df1}\")\n",
    "                print(f\" - {df2_name} order: {ordered_common_df2}\")\n",
    "            else:\n",
    "                print(\"\\nCommon columns are in the same order.\")\n",
    "\n",
    "compare_and_clean_columns(\n",
    "    df_old_ground_truth, \n",
    "    df_new_annotated_data, \n",
    "    df1_name='df_old_ground_truth', \n",
    "    df2_name='df_new_annotated_data'\n",
    ")"
   ]
  },
  {
   "cell_type": "markdown",
   "metadata": {
    "application/vnd.databricks.v1+cell": {
     "cellMetadata": {
      "byteLimit": 2048000,
      "rowLimit": 10000
     },
     "inputWidgets": {},
     "nuid": "f1ad0b13-c8cf-46d0-a2d6-79f10957e126",
     "showTitle": false,
     "tableResultSettingsMap": {},
     "title": ""
    }
   },
   "source": [
    "### If above says 'DataFrames have different column names or different column orders', continue below. If not, skip code in this section"
   ]
  },
  {
   "cell_type": "code",
   "execution_count": 0,
   "metadata": {
    "application/vnd.databricks.v1+cell": {
     "cellMetadata": {
      "byteLimit": 2048000,
      "rowLimit": 10000
     },
     "inputWidgets": {},
     "nuid": "97b29330-6f70-43ca-90cb-6bb6c580aa58",
     "showTitle": false,
     "tableResultSettingsMap": {},
     "title": ""
    }
   },
   "outputs": [
    {
     "output_type": "stream",
     "name": "stdout",
     "output_type": "stream",
     "text": [
      "Dropped columns from 'df_old_ground_truth': ['len', 'id', 'JobDescriptioninHTML', 'CompanyName', 'country', 'title']\nNo specified columns to drop in 'df_new_annotated_data'.\n"
     ]
    }
   ],
   "source": [
    "# INSTRUCTION: Specify columns to drop based on the identified differences for 'columns_to_drop' for df1 and df2\n",
    "columns_to_drop_df1 = ['len', 'id', 'JobDescriptioninHTML', 'CompanyName', 'country', 'title']\n",
    "columns_to_drop_df2 = ['unwanted_column1_df2', 'unwanted_column2_df2']\n",
    "\n",
    "def drop_unwanted_columns(df, columns_to_drop, df_name='DataFrame'):\n",
    "    existing_columns_to_drop = [col for col in columns_to_drop if col in df.columns]\n",
    "    if not existing_columns_to_drop:\n",
    "        print(f\"No specified columns to drop in '{df_name}'.\")\n",
    "        return df\n",
    "\n",
    "    df_dropped = df.drop(columns=existing_columns_to_drop)\n",
    "    print(f\"Dropped columns from '{df_name}': {existing_columns_to_drop}\")\n",
    "    return df_dropped\n",
    "\n",
    "# Drop unwanted columns from df_old_ground_truth\n",
    "df_old_ground_truth = drop_unwanted_columns(\n",
    "    df_old_ground_truth, \n",
    "    columns_to_drop=columns_to_drop_df1, \n",
    "    df_name='df_old_ground_truth'\n",
    ")\n",
    "\n",
    "# Drop unwanted columns from df_new_annotated_data\n",
    "df_new_annotated_data = drop_unwanted_columns(\n",
    "    df_new_annotated_data, \n",
    "    columns_to_drop=columns_to_drop_df2, \n",
    "    df_name='df_new_annotated_data'\n",
    ")"
   ]
  },
  {
   "cell_type": "markdown",
   "metadata": {
    "application/vnd.databricks.v1+cell": {
     "cellMetadata": {
      "byteLimit": 2048000,
      "rowLimit": 10000
     },
     "inputWidgets": {},
     "nuid": "fd59fbc2-e0ad-4d62-b2ea-04245eedb8ae",
     "showTitle": false,
     "tableResultSettingsMap": {},
     "title": ""
    }
   },
   "source": [
    "### Final bit of column alignment"
   ]
  },
  {
   "cell_type": "code",
   "execution_count": 0,
   "metadata": {
    "application/vnd.databricks.v1+cell": {
     "cellMetadata": {
      "byteLimit": 2048000,
      "rowLimit": 10000
     },
     "inputWidgets": {},
     "nuid": "44415e8c-cf68-497f-8a0a-bf2d847dfa74",
     "showTitle": false,
     "tableResultSettingsMap": {},
     "title": ""
    }
   },
   "outputs": [
    {
     "output_type": "stream",
     "name": "stdout",
     "output_type": "stream",
     "text": [
      "Aligned column order of 'df_new_annotated_data' to match the reference DataFrame.\nBoth DataFrames have the same column names in the same order.\n"
     ]
    }
   ],
   "source": [
    "def align_column_order(df_reference, df_to_align, df_to_align_name='df_to_align'):\n",
    "    common_columns = df_reference.columns.intersection(df_to_align.columns)\n",
    "    df_aligned = df_to_align[common_columns]\n",
    "    print(f\"Aligned column order of '{df_to_align_name}' to match the reference DataFrame.\")\n",
    "    return df_aligned\n",
    "\n",
    "df_new_annotated_data = align_column_order(\n",
    "    df_reference=df_old_ground_truth, \n",
    "    df_to_align=df_new_annotated_data, \n",
    "    df_to_align_name='df_new_annotated_data'\n",
    ")\n",
    "\n",
    "compare_and_clean_columns(\n",
    "    df_old_ground_truth, \n",
    "    df_new_annotated_data, \n",
    "    df1_name='df_old_ground_truth', \n",
    "    df2_name='df_new_annotated_data'\n",
    ")"
   ]
  },
  {
   "cell_type": "markdown",
   "metadata": {
    "application/vnd.databricks.v1+cell": {
     "cellMetadata": {
      "byteLimit": 2048000,
      "rowLimit": 10000
     },
     "inputWidgets": {},
     "nuid": "92fe35d0-8ece-4101-a363-0a2f94aec04a",
     "showTitle": false,
     "tableResultSettingsMap": {},
     "title": ""
    }
   },
   "source": [
    "## Prep training materials"
   ]
  },
  {
   "cell_type": "code",
   "execution_count": 0,
   "metadata": {
    "application/vnd.databricks.v1+cell": {
     "cellMetadata": {
      "byteLimit": 2048000,
      "rowLimit": 10000
     },
     "inputWidgets": {},
     "nuid": "9ac3d4f9-1f9c-4a53-a5a6-84e8b9544e78",
     "showTitle": false,
     "tableResultSettingsMap": {},
     "title": ""
    }
   },
   "outputs": [
    {
     "output_type": "stream",
     "name": "stdout",
     "output_type": "stream",
     "text": [
      "The number of rows in df_new_ground_truth is correct.\n"
     ]
    }
   ],
   "source": [
    "# Combining datasets to create new_ground_truth\n",
    "df_new_ground_truth = pd.concat([df_old_ground_truth,df_new_annotated_data])\n",
    "\n",
    "expected_rows = df_old_ground_truth.shape[0] + df_new_annotated_data.shape[0]\n",
    "actual_rows = df_new_ground_truth.shape[0]\n",
    "\n",
    "if expected_rows == actual_rows:\n",
    "    print(\"The number of rows in df_new_ground_truth is correct.\")\n",
    "else:\n",
    "    print(\"The number of rows in df_new_ground_truth is incorrect.\")"
   ]
  },
  {
   "cell_type": "code",
   "execution_count": 0,
   "metadata": {
    "application/vnd.databricks.v1+cell": {
     "cellMetadata": {
      "byteLimit": 2048000,
      "rowLimit": 10000
     },
     "inputWidgets": {},
     "nuid": "b10f1e49-82c3-4744-9119-949a7cf28399",
     "showTitle": false,
     "tableResultSettingsMap": {},
     "title": ""
    }
   },
   "outputs": [],
   "source": [
    "# Save as jsonl as needed to feed into training\n",
    "\n",
    "ground_truth_path = \"/TEMP2.jsonl\"\n",
    "df_new_ground_truth.to_json(ground_truth_path,lines=True,orient='records')"
   ]
  },
  {
   "cell_type": "code",
   "execution_count": 0,
   "metadata": {
    "application/vnd.databricks.v1+cell": {
     "cellMetadata": {
      "byteLimit": 2048000,
      "rowLimit": 10000
     },
     "inputWidgets": {},
     "nuid": "fef01589-075b-4e0e-a4b8-99f15a3e2c82",
     "showTitle": false,
     "tableResultSettingsMap": {},
     "title": ""
    }
   },
   "outputs": [
    
   ],
   "source": [
    "# INSTRUCTION: Name the prodigy session you're creating to house the training data for this model\n",
    "\n",
    "prodigy_session_name = \"benefits_TEST2\"\n",
    "\n",
    "!python -m prodigy db-in $prodigy_session_name \"$ground_truth_path\" --overwrite"
   ]
  },
  {
   "cell_type": "code",
   "execution_count": 0,
   "metadata": {
    "application/vnd.databricks.v1+cell": {
     "cellMetadata": {
      "byteLimit": 2048000,
      "rowLimit": 10000
     },
     "inputWidgets": {},
     "nuid": "8b56516a-f2cb-4edb-8f4b-aab4886805fc",
     "showTitle": false,
     "tableResultSettingsMap": {},
     "title": ""
    }
   },
   "outputs": [
    
   ],
   "source": [
    "# INSTRUCTION: Set the folder location you want to house all the training data\n",
    "# Keep training split at 0.1 (90 training : 10 evaluation) unless want more evaluation data, then can change to 80 : 20\n",
    "\n",
    "!python -m prodigy data-to-spacy \"$training_data_path\" --ner $prodigy_session_name --eval-split 0.1"
   ]
  },
  {
   "cell_type": "code",
   "execution_count": 0,
   "metadata": {
    "application/vnd.databricks.v1+cell": {
     "cellMetadata": {
      "byteLimit": 2048000,
      "rowLimit": 10000
     },
     "inputWidgets": {},
     "nuid": "092e8147-af0d-4355-b236-ce558ef7b6dd",
     "showTitle": false,
     "tableResultSettingsMap": {},
     "title": ""
    }
   },
   "outputs": [
    {
     "output_type": "execute_result",
     "data": {
      "text/plain": [
       "True"
      ]
     },
     "execution_count": 13,
     "metadata": {},
     "output_type": "execute_result"
    }
   ],
   "source": [
    "# Create a folder in your DBFS to hold the trained model. Since the model is big, prefer to store in DBFS\n",
    "\n",
    "dbutils.fs.mkdirs('/NER')"
   ]
  },
  {
   "cell_type": "code",
   "execution_count": 0,
   "metadata": {
    "application/vnd.databricks.v1+cell": {
     "cellMetadata": {
      "byteLimit": 2048000,
      "rowLimit": 10000
     },
     "inputWidgets": {},
     "nuid": "7d8a8e69-38ec-4481-8f62-e47e63a48d92",
     "showTitle": false,
     "tableResultSettingsMap": {},
     "title": ""
    }
   },
   "outputs": [],
   "source": [
    "# Output of your DBFS folder for the model\n",
    "output_path = Path(\"/mlflow_log_test\")\n",
    "\n",
    "# dev.spacy and train'spacy files produced from the above 'data-to-spacy' command you ran\n",
    "train_path = \"/train.spacy\"\n",
    "dev_path = \"/dev.spacy\""
   ]
  },
  {
   "cell_type": "code",
   "execution_count": 0,
   "metadata": {
    "application/vnd.databricks.v1+cell": {
     "cellMetadata": {
      "byteLimit": 2048000,
      "rowLimit": 10000
     },
     "inputWidgets": {},
     "nuid": "20706b13-e605-4f05-b81d-c4aa5d8cd480",
     "showTitle": false,
     "tableResultSettingsMap": {},
     "title": ""
    }
   },
   "outputs": [],
   "source": [
    "config_path = \"/ner_config_v2.cfg\"\n",
    "local_model_path = \"/jdbert-384\"\n",
    "\n",
    "overrides = {\n",
    "    \"paths.train\": train_path,\n",
    "    \"paths.dev\": dev_path,\n",
    "    \"paths.ground_truth\": ground_truth_path,\n",
    "    \"variables.transformer_model_name\": local_model_path\n",
    "}"
   ]
  },
  {
   "cell_type": "code",
   "execution_count": 0,
   "metadata": {
    "application/vnd.databricks.v1+cell": {
     "cellMetadata": {
      "byteLimit": 2048000,
      "rowLimit": 10000
     },
     "inputWidgets": {},
     "nuid": "1730d16a-db99-44bb-9a40-610d781056cd",
     "showTitle": false,
     "tableResultSettingsMap": {},
     "title": ""
    }
   },
   "outputs": [
    {
     "output_type": "stream",
     "name": "stdout",
     "output_type": "stream",
     "text": [
      "\u001B[38;5;4mℹ Saving to output directory:[0m\n\u001B[38;5;4mℹ Using CPU\u001B[0m\n\u001B[1m\n=========================== Initializing pipeline ===========================\u001B[0m\n"
     ]
    },
    
    {
     "output_type": "stream",
     "name": "stdout",
     "output_type": "stream",
     "text": [
      "\u001B[38;5;2m✔ Initialized pipeline\u001B[0m\n\u001B[1m\n============================= Training pipeline =============================\u001B[0m\n\u001B[38;5;4mℹ Pipeline: ['transformer', 'ner']\u001B[0m\n\u001B[38;5;4mℹ Initial learn rate: 0.0\u001B[0m\nE    #       LOSS TRANS...  LOSS NER  ENTS_F  ENTS_P  ENTS_R  SCORE \n---  ------  -------------  --------  ------  ------  ------  ------\n  0       0        2120.26   1449.26    0.20    0.10    4.26    0.00\n"
     ]
    },
    {
     "output_type": "display_data",
     "data": {
      "application/vnd.jupyter.widget-view+json": {
       "model_id": "1d3a007c307d409c9d0b95de54bff24f",
       "version_major": 2,
       "version_minor": 0
      },
      "text/plain": [
       "Uploading artifacts:   0%|          | 0/21 [00:00<?, ?it/s]"
      ]
     },
     "metadata": {},
     "output_type": "display_data"
    },
    {
     "output_type": "stream",
     "name": "stdout",
     "output_type": "stream",
     "text": [
      "  0     200      142738.71  56289.62   21.26   24.58   18.73    0.21\n"
     ]
    },
    {
     "output_type": "display_data",
     "data": {
      "application/vnd.jupyter.widget-view+json": {
       "model_id": "e7198fa912a04e2bad731568e682162b",
       "version_major": 2,
       "version_minor": 0
      },
      "text/plain": [
       "Uploading artifacts:   0%|          | 0/21 [00:00<?, ?it/s]"
      ]
     },
     "metadata": {},
     "output_type": "display_data"
    },
    {
     "output_type": "stream",
     "name": "stdout",
     "output_type": "stream",
     "text": [
      "  0     400        3652.59   4504.70   51.11   51.34   50.88    0.51\n"
     ]
    },
    {
     "output_type": "display_data",
     "data": {
      "application/vnd.jupyter.widget-view+json": {
       "model_id": "e1ac60096974480eb8402c326e07940c",
       "version_major": 2,
       "version_minor": 0
      },
      "text/plain": [
       "Uploading artifacts:   0%|          | 0/21 [00:00<?, ?it/s]"
      ]
     },
     "metadata": {},
     "output_type": "display_data"
    },
    {
     "output_type": "stream",
     "name": "stdout",
     "output_type": "stream",
     "text": [
      "  0     600        2042.91   3205.74   65.19   74.74   57.80    0.65\n"
     ]
    },
    {
     "output_type": "display_data",
     "data": {
      "application/vnd.jupyter.widget-view+json": {
       "model_id": "8c0cac595f5a4d2f8d29ad3d01ed740e",
       "version_major": 2,
       "version_minor": 0
      },
      "text/plain": [
       "Uploading artifacts:   0%|          | 0/21 [00:00<?, ?it/s]"
      ]
     },
     "metadata": {},
     "output_type": "display_data"
    },
    {
     "output_type": "stream",
     "name": "stdout",
     "output_type": "stream",
     "text": [
      "  0     800        1835.24   3474.09   69.42   70.54   68.33    0.69\n"
     ]
    },
    {
     "output_type": "display_data",
     "data": {
      "application/vnd.jupyter.widget-view+json": {
       "model_id": "8edc22d835cf4c43a82f629092b632d0",
       "version_major": 2,
       "version_minor": 0
      },
      "text/plain": [
       "Uploading artifacts:   0%|          | 0/21 [00:00<?, ?it/s]"
      ]
     },
     "metadata": {},
     "output_type": "display_data"
    },
    {
     "output_type": "stream",
     "name": "stdout",
     "output_type": "stream",
     "text": [
      "  0    1000        1871.81   3195.99   71.22   77.56   65.84    0.71\n"
     ]
    },
    {
     "output_type": "display_data",
     "data": {
      "application/vnd.jupyter.widget-view+json": {
       "model_id": "e1f36a53d9ab47bc91093a0264b00252",
       "version_major": 2,
       "version_minor": 0
      },
      "text/plain": [
       "Uploading artifacts:   0%|          | 0/21 [00:00<?, ?it/s]"
      ]
     },
     "metadata": {},
     "output_type": "display_data"
    },
    {
     "output_type": "stream",
     "name": "stdout",
     "output_type": "stream",
     "text": [
      "  1    1200        1395.91   2823.55   71.61   73.91   69.45    0.72\n"
     ]
    },
    {
     "output_type": "display_data",
     "data": {
      "application/vnd.jupyter.widget-view+json": {
       "model_id": "e00a3a47f5634df6a72fce6a1986d4ec",
       "version_major": 2,
       "version_minor": 0
      },
      "text/plain": [
       "Uploading artifacts:   0%|          | 0/21 [00:00<?, ?it/s]"
      ]
     },
     "metadata": {},
     "output_type": "display_data"
    },
    {
     "output_type": "stream",
     "name": "stdout",
     "output_type": "stream",
     "text": [
      "  1    1400        1372.56   2631.39   74.22   75.23   73.23    0.74\n"
     ]
    },
    {
     "output_type": "display_data",
     "data": {
      "application/vnd.jupyter.widget-view+json": {
       "model_id": "cc28227505a34f2eb1c8f3e7092d022d",
       "version_major": 2,
       "version_minor": 0
      },
      "text/plain": [
       "Uploading artifacts:   0%|          | 0/21 [00:00<?, ?it/s]"
      ]
     },
     "metadata": {},
     "output_type": "display_data"
    },
    {
     "output_type": "stream",
     "name": "stdout",
     "output_type": "stream",
     "text": [
      "  1    1600        1469.83   2713.49   77.55   80.00   75.24    0.78\n"
     ]
    },
    {
     "output_type": "display_data",
     "data": {
      "application/vnd.jupyter.widget-view+json": {
       "model_id": "70ba2e4911d048dd878a8deffb097b1c",
       "version_major": 2,
       "version_minor": 0
      },
      "text/plain": [
       "Uploading artifacts:   0%|          | 0/21 [00:00<?, ?it/s]"
      ]
     },
     "metadata": {},
     "output_type": "display_data"
    },
    {
     "output_type": "stream",
     "name": "stdout",
     "output_type": "stream",
     "text": [
      "  1    1800        1514.50   2928.56   77.10   79.05   75.24    0.77\n  1    2000        1401.63   3102.66   73.29   71.66   75.00    0.73\n  2    2200        1039.25   2206.35   78.36   80.91   75.96    0.78\n"
     ]
    },
    {
     "output_type": "display_data",
     "data": {
      "application/vnd.jupyter.widget-view+json": {
       "model_id": "746544bb496f43f39f446f52fa851ee2",
       "version_major": 2,
       "version_minor": 0
      },
      "text/plain": [
       "Uploading artifacts:   0%|          | 0/21 [00:00<?, ?it/s]"
      ]
     },
     "metadata": {},
     "output_type": "display_data"
    },
    {
     "output_type": "stream",
     "name": "stdout",
     "output_type": "stream",
     "text": [
      "  2    2400        1129.41   2534.85   77.48   76.07   78.94    0.77\n"
     ]
    }
   ],
   "source": [
    "# Run to train model. View the experiment and use the 'run_id' to call the best model from this training\n",
    "train(config_path, output_path, overrides=overrides)"
   ]
  },
  {
   "cell_type": "markdown",
   "metadata": {
    "application/vnd.databricks.v1+cell": {
     "cellMetadata": {},
     "inputWidgets": {},
     "nuid": "cab13d64-5848-4862-8e8e-edbe8d4258ce",
     "showTitle": false,
     "tableResultSettingsMap": {},
     "title": ""
    }
   },
   "source": [
    "## Now we've trained and saved our Benefits NER model within MLFlow. All that's needed to use this model in the future is the unique 'run_id'! Easy peasy."
   ]
  }
 ],
 "metadata": {
  "application/vnd.databricks.v1+notebook": {
   "computePreferences": null,
   "dashboards": [],
   "environmentMetadata": null,
   "language": "python",
   "notebookMetadata": {
    "pythonIndentUnit": 4
   },
   "notebookName": "(git) (PROD) Training Benefits NER Model - 2. Training model",
   "widgets": {}
  },
  "language_info": {
   "name": "python"
  }
 },
 "nbformat": 4,
 "nbformat_minor": 0
}
